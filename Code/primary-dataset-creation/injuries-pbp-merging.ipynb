{
 "cells": [
  {
   "cell_type": "code",
   "execution_count": 2,
   "metadata": {},
   "outputs": [
    {
     "name": "stderr",
     "output_type": "stream",
     "text": [
      "C:\\Users\\Owner\\AppData\\Local\\Temp\\ipykernel_8456\\4173703119.py:5: DtypeWarning: Columns (45,179,180,182,183,189,190,193,194,197,198,203,204,205,206,209,210,218,219,220,233,234,235,236,237,238,248,249,253,254,255,260,262,263,283,284) have mixed types. Specify dtype option on import or set low_memory=False.\n",
      "  pbp_2019 = pd.read_csv('../../Data/play-by-play/play_by_play_2019.csv')\n",
      "C:\\Users\\Owner\\AppData\\Local\\Temp\\ipykernel_8456\\4173703119.py:6: DtypeWarning: Columns (179,180,182,183,189,190,193,194,197,198,203,204,205,206,213,214,218,219,220,222,224,226,248,249,253,254,255,260,262,263,266,267,268,269,283,284) have mixed types. Specify dtype option on import or set low_memory=False.\n",
      "  pbp_2020 = pd.read_csv('../../Data/play-by-play/play_by_play_2020.csv')\n"
     ]
    }
   ],
   "source": [
    "import pandas as pd\n",
    "\n",
    "#players = pd.read_csv('players.csv')\n",
    "#participation_2019 = pd.read_csv('pbp_participation_2019.csv')\n",
    "pbp_2019 = pd.read_csv('../../Data/play-by-play/play_by_play_2019.csv')\n",
    "pbp_2020 = pd.read_csv('../../Data/play-by-play/play_by_play_2020.csv')"
   ]
  },
  {
   "cell_type": "code",
   "execution_count": 3,
   "metadata": {},
   "outputs": [
    {
     "name": "stdout",
     "output_type": "stream",
     "text": [
      "(47258, 372)\n",
      "(47705, 372)\n",
      "(94963, 372)\n"
     ]
    }
   ],
   "source": [
    "print(pbp_2019.shape)\n",
    "print(pbp_2020.shape)\n",
    "\n",
    "pbp_all = pd.concat([pbp_2019, pbp_2020], axis=0)\n",
    "print(pbp_all.shape)"
   ]
  },
  {
   "cell_type": "code",
   "execution_count": 4,
   "metadata": {},
   "outputs": [],
   "source": [
    "pbp_all.drop(columns=['kick_distance','home_timeouts_remaining', 'away_timeouts_remaining','timeout',\n",
    "'timeout_team','posteam_timeouts_remaining','defteam_timeouts_remaining','no_score_prob','opp_fg_prob',\n",
    "'opp_safety_prob','opp_td_prob','fg_prob','safety_prob','td_prob','extra_point_prob','two_point_conversion_prob',\n",
    "'ep','epa','total_home_epa','total_away_epa','total_home_rush_epa','total_away_rush_epa','total_home_pass_epa','total_away_pass_epa',\n",
    "'air_epa','yac_epa','comp_air_epa','comp_yac_epa','total_home_comp_air_epa','total_away_comp_air_epa','total_home_comp_yac_epa',\n",
    "'total_away_comp_yac_epa','total_home_raw_air_epa','total_away_raw_air_epa','total_home_raw_yac_epa','total_away_raw_yac_epa','wp',\n",
    "'def_wp','home_wp','away_wp','wpa','vegas_wpa','vegas_home_wpa','home_wp_post','away_wp_post','vegas_wp','vegas_home_wp','total_home_rush_wpa',\n",
    "'total_away_rush_wpa','total_home_pass_wpa','total_away_pass_wpa','air_wpa','yac_wpa','comp_air_wpa','comp_yac_wpa','total_home_comp_air_wpa',\n",
    "'total_away_comp_air_wpa','total_home_comp_yac_wpa','total_away_comp_yac_wpa','total_home_raw_air_wpa','total_away_raw_air_wpa',\n",
    "'total_home_raw_yac_wpa','total_away_raw_yac_wpa','fantasy_player_name','fantasy_player_id','fantasy','fantasy_id','out_of_bounds','home_opening_kickoff',\n",
    "'qb_epa','xyac_epa','xyac_mean_yardage','xyac_median_yardage','xyac_success','xyac_fd','xpass','pass_oe','home_coach','away_coach','passer_jersey_number','rusher_jersey_number',\n",
    "'receiver_jersey_number','total_line','spread_line'], inplace=True)"
   ]
  },
  {
   "cell_type": "code",
   "execution_count": 5,
   "metadata": {},
   "outputs": [],
   "source": [
    "pbp_all.drop(columns=['sp','goal_to_go','time','yrdln','ydsnet','no_huddle','qb_dropback','qb_spike','qb_scramble','pass_length','pass_location','air_yards','yards_after_catch',\n",
    "                       'run_location','run_gap','field_goal_result','extra_point_result','two_point_conv_result','td_team','td_player_name','td_player_id','total_home_score',\n",
    "                       'total_away_score','posteam_score_post','defteam_score_post','score_differential_post','punt_blocked','first_down_rush','first_down_pass',\n",
    "                       'first_down_penalty','third_down_converted','third_down_failed','fourth_down_converted','fourth_down_failed','touchback','interception','punt_inside_twenty',\n",
    "                       'punt_in_endzone','punt_out_of_bounds','punt_downed','punt_fair_catch','kickoff_inside_twenty','kickoff_in_endzone','kickoff_out_of_bounds','kickoff_downed',                \n",
    "                        \"kickoff_fair_catch\", \"fumble_forced\", \"fumble_not_forced\", \"fumble_out_of_bounds\", \"solo_tackle\", \"safety\",\"penalty\", \"tackled_for_loss\", \"fumble_lost\", \"own_kickoff_recovery\", \n",
    "                        \"own_kickoff_recovery_td\", \"qb_hit\",\n",
    "    \"rush_attempt\", \"pass_attempt\", \"sack\", \"touchdown\", \"pass_touchdown\", \"rush_touchdown\", \"return_touchdown\",\n",
    "    \"extra_point_attempt\", \"two_point_attempt\", \"field_goal_attempt\", \"kickoff_attempt\", \"punt_attempt\",\n",
    "    \"fumble\", \"complete_pass\", \"assist_tackle\", \"lateral_reception\", \"lateral_rush\", \"lateral_return\",\n",
    "    \"lateral_recovery\", \"passer_player_id\", \"passer_player_name\", \"passing_yards\", \"receiver_player_id\",\n",
    "    \"receiver_player_name\", \"receiving_yards\", \"rusher_player_id\", \"rusher_player_name\", \"rushing_yards\",\n",
    "    \"lateral_receiver_player_id\", \"lateral_receiver_player_name\", \"lateral_receiving_yards\",\n",
    "    \"lateral_rusher_player_id\", \"lateral_rusher_player_name\", \"lateral_rushing_yards\",\n",
    "    \"lateral_sack_player_id\", \"lateral_sack_player_name\", \"interception_player_id\",\n",
    "    \"interception_player_name\", \"lateral_interception_player_id\",\n",
    "    \"lateral_interception_player_name\", \"punt_returner_player_id\",\n",
    "    \"punt_returner_player_name\", \"lateral_punt_returner_player_id\",\n",
    "    \"lateral_punt_returner_player_name\", \"kickoff_returner_player_name\",\n",
    "    \"kickoff_returner_player_id\", \"lateral_kickoff_returner_player_id\",\n",
    "    \"lateral_kickoff_returner_player_name\", \"punter_player_id\", \"punter_player_name\",\n",
    "    \"kicker_player_name\", \"kicker_player_id\", \"own_kickoff_recovery_player_id\",\n",
    "    \"own_kickoff_recovery_player_name\", \"blocked_player_id\", \"blocked_player_name\",\n",
    "    \"tackle_for_loss_1_player_id\", \"tackle_for_loss_1_player_name\",\n",
    "    \"tackle_for_loss_2_player_id\", \"tackle_for_loss_2_player_name\",\n",
    "    \"qb_hit_1_player_id\", \"qb_hit_1_player_name\", \"qb_hit_2_player_id\",\n",
    "    \"qb_hit_2_player_name\", \"forced_fumble_player_1_team\",\n",
    "    \"forced_fumble_player_1_player_id\", \"forced_fumble_player_1_player_name\",\n",
    "    \"forced_fumble_player_2_team\", \"forced_fumble_player_2_player_id\",\n",
    "    \"forced_fumble_player_2_player_name\", \"solo_tackle_1_team\",\n",
    "    \"solo_tackle_2_team\", \"solo_tackle_1_player_id\", \"solo_tackle_2_player_id\",\n",
    "    \"solo_tackle_1_player_name\", \"solo_tackle_2_player_name\",\n",
    "    \"assist_tackle_1_player_id\", \"assist_tackle_1_player_name\",\n",
    "    \"assist_tackle_1_team\", \"assist_tackle_2_player_id\",\n",
    "    \"assist_tackle_2_player_name\", \"assist_tackle_2_team\",\n",
    "    \"assist_tackle_3_player_id\", \"assist_tackle_3_player_name\",\n",
    "    \"assist_tackle_3_team\", \"assist_tackle_4_player_id\",\n",
    "    \"assist_tackle_4_player_name\", \"assist_tackle_4_team\",\n",
    "    \"tackle_with_assist\", \"tackle_with_assist_1_player_id\", \"tackle_with_assist_1_player_name\",\n",
    "    \"tackle_with_assist_1_team\", \"tackle_with_assist_2_player_id\", \"tackle_with_assist_2_player_name\",\n",
    "    \"tackle_with_assist_2_team\", \"pass_defense_1_player_id\", \"pass_defense_1_player_name\",\n",
    "    \"pass_defense_2_player_id\", \"pass_defense_2_player_name\", \"fumbled_1_team\", \"fumbled_1_player_id\",\n",
    "    \"fumbled_1_player_name\", \"fumbled_2_player_id\", \"fumbled_2_player_name\", \"fumbled_2_team\",\n",
    "    \"fumble_recovery_1_team\", \"fumble_recovery_1_yards\", \"fumble_recovery_1_player_id\",\n",
    "    \"fumble_recovery_1_player_name\", \"fumble_recovery_2_team\", \"fumble_recovery_2_yards\",\n",
    "    \"fumble_recovery_2_player_id\", \"fumble_recovery_2_player_name\", \"sack_player_id\", \"sack_player_name\",\n",
    "    \"half_sack_1_player_id\", \"half_sack_1_player_name\", \"half_sack_2_player_id\", \"half_sack_2_player_name\",\n",
    "    \"return_team\", \"return_yards\", \"penalty_team\", \"penalty_player_id\", \"penalty_player_name\",\n",
    "    \"penalty_yards\", \"replay_or_challenge\", \"replay_or_challenge_result\", \"penalty_type\",\n",
    "    \"defensive_two_point_attempt\", \"defensive_two_point_conv\", \"defensive_extra_point_attempt\",\n",
    "    \"defensive_extra_point_conv\", \"safety_player_name\", \"safety_player_id\", \"cp\", \"cpoe\",\n",
    "    \"order_sequence\", \"start_time\", \"time_of_day\", \"weather\", \"nfl_api_id\", \"play_clock\",\n",
    "    \"play_deleted\", \"special_teams_play\", \"st_play_type\", \"end_clock_time\", \"end_yard_line\",\n",
    "    \"fixed_drive\", \"fixed_drive_result\", \"drive_real_start_time\", \"drive_first_downs\",\n",
    "    \"drive_inside20\", \"drive_ended_with_score\", \"drive_quarter_start\", \"drive_quarter_end\",\n",
    "    \"drive_yards_penalized\", \"drive_start_transition\", \"drive_end_transition\", \"drive_game_clock_start\",\n",
    "    \"drive_game_clock_end\", \"drive_start_yard_line\", \"drive_end_yard_line\", \"drive_play_id_started\",\n",
    "    \"drive_play_id_ended\", \"away_score\", \"home_score\", \"location\", \"result\", \"total\", \"div_game\",\n",
    "    \"stadium_id\", \"game_stadium\", \"aborted_play\", \"success\", \"passer\", \"rusher\", \"receiver\",\n",
    "    \"pass\", \"rush\", \"first_down\", \"special\", \"play\", \"passer_id\", \"rusher_id\", \"receiver_id\",\n",
    "    \"name\", \"jersey_number\", \"id\",'shotgun','qb_kneel','incomplete_pass','quarter_end','posteam_type','temp','wind'\n",
    "], inplace=True)"
   ]
  },
  {
   "cell_type": "code",
   "execution_count": 6,
   "metadata": {},
   "outputs": [
    {
     "name": "stdout",
     "output_type": "stream",
     "text": [
      "(94963, 36)\n"
     ]
    }
   ],
   "source": [
    "print(pbp_all.shape)"
   ]
  },
  {
   "cell_type": "code",
   "execution_count": 7,
   "metadata": {},
   "outputs": [
    {
     "data": {
      "text/plain": [
       "play_id                          0\n",
       "game_id                          0\n",
       "old_game_id                      0\n",
       "home_team                        0\n",
       "away_team                        0\n",
       "season_type                      0\n",
       "week                             0\n",
       "posteam                       4971\n",
       "defteam                       4971\n",
       "side_of_field                 6625\n",
       "yardline_100                  6573\n",
       "game_date                        0\n",
       "quarter_seconds_remaining       50\n",
       "half_seconds_remaining          50\n",
       "game_seconds_remaining          50\n",
       "game_half                        0\n",
       "drive                         1077\n",
       "qtr                              0\n",
       "down                         15234\n",
       "ydstogo                          0\n",
       "desc                             0\n",
       "play_type                     2773\n",
       "yards_gained                  2874\n",
       "posteam_score                 4971\n",
       "defteam_score                 4971\n",
       "score_differential            4971\n",
       "season                           0\n",
       "series                           0\n",
       "series_success                   0\n",
       "series_result                    2\n",
       "stadium                          0\n",
       "play_type_nfl                    0\n",
       "drive_play_count              1077\n",
       "drive_time_of_possession      1077\n",
       "roof                             0\n",
       "surface                          0\n",
       "dtype: int64"
      ]
     },
     "execution_count": 7,
     "metadata": {},
     "output_type": "execute_result"
    }
   ],
   "source": [
    "pbp_all.isnull().sum()"
   ]
  },
  {
   "cell_type": "code",
   "execution_count": 8,
   "metadata": {},
   "outputs": [],
   "source": [
    "pbp_all.rename(columns={'ydstogo':'YardsToGo','game_date':'date','posteam':'OffenseTeam','defteam':'DefenseTeam','qtr':'Quarter',\n",
    "                        'posteam_score':'Offteam_score','down':'Down','desc':'Description'}, inplace=True)"
   ]
  },
  {
   "cell_type": "code",
   "execution_count": 9,
   "metadata": {},
   "outputs": [],
   "source": [
    "pbp_all.sort_values(by=['date', 'game_id','Quarter','quarter_seconds_remaining','game_seconds_remaining'], ascending=[True, True, True, False, False], ignore_index=True, inplace=True)"
   ]
  },
  {
   "cell_type": "code",
   "execution_count": 10,
   "metadata": {},
   "outputs": [],
   "source": [
    "pbp_all['game_half'].replace('Half1', 1, inplace=True)\n",
    "pbp_all['game_half'].replace('Half2', 2, inplace=True)\n",
    "pbp_all['game_half'].replace('Overtime', 3, inplace=True)"
   ]
  },
  {
   "cell_type": "code",
   "execution_count": 11,
   "metadata": {},
   "outputs": [
    {
     "data": {
      "text/html": [
       "<div>\n",
       "<style scoped>\n",
       "    .dataframe tbody tr th:only-of-type {\n",
       "        vertical-align: middle;\n",
       "    }\n",
       "\n",
       "    .dataframe tbody tr th {\n",
       "        vertical-align: top;\n",
       "    }\n",
       "\n",
       "    .dataframe thead th {\n",
       "        text-align: right;\n",
       "    }\n",
       "</style>\n",
       "<table border=\"1\" class=\"dataframe\">\n",
       "  <thead>\n",
       "    <tr style=\"text-align: right;\">\n",
       "      <th></th>\n",
       "      <th>play_id</th>\n",
       "      <th>game_id</th>\n",
       "      <th>old_game_id</th>\n",
       "      <th>home_team</th>\n",
       "      <th>away_team</th>\n",
       "      <th>season_type</th>\n",
       "      <th>week</th>\n",
       "      <th>OffenseTeam</th>\n",
       "      <th>DefenseTeam</th>\n",
       "      <th>side_of_field</th>\n",
       "      <th>...</th>\n",
       "      <th>score_differential</th>\n",
       "      <th>season</th>\n",
       "      <th>series</th>\n",
       "      <th>series_success</th>\n",
       "      <th>series_result</th>\n",
       "      <th>play_type_nfl</th>\n",
       "      <th>drive_play_count</th>\n",
       "      <th>drive_time_of_possession</th>\n",
       "      <th>roof</th>\n",
       "      <th>surface</th>\n",
       "    </tr>\n",
       "  </thead>\n",
       "  <tbody>\n",
       "    <tr>\n",
       "      <th>0</th>\n",
       "      <td>1</td>\n",
       "      <td>2019_01_GB_CHI</td>\n",
       "      <td>2019090500</td>\n",
       "      <td>CHI</td>\n",
       "      <td>GB</td>\n",
       "      <td>REG</td>\n",
       "      <td>1</td>\n",
       "      <td>NaN</td>\n",
       "      <td>NaN</td>\n",
       "      <td>NaN</td>\n",
       "      <td>...</td>\n",
       "      <td>NaN</td>\n",
       "      <td>2019</td>\n",
       "      <td>1</td>\n",
       "      <td>0</td>\n",
       "      <td>Punt</td>\n",
       "      <td>GAME_START</td>\n",
       "      <td>NaN</td>\n",
       "      <td>NaN</td>\n",
       "      <td>outdoors</td>\n",
       "      <td>grass</td>\n",
       "    </tr>\n",
       "    <tr>\n",
       "      <th>1</th>\n",
       "      <td>35</td>\n",
       "      <td>2019_01_GB_CHI</td>\n",
       "      <td>2019090500</td>\n",
       "      <td>CHI</td>\n",
       "      <td>GB</td>\n",
       "      <td>REG</td>\n",
       "      <td>1</td>\n",
       "      <td>GB</td>\n",
       "      <td>CHI</td>\n",
       "      <td>CHI</td>\n",
       "      <td>...</td>\n",
       "      <td>0.0</td>\n",
       "      <td>2019</td>\n",
       "      <td>1</td>\n",
       "      <td>0</td>\n",
       "      <td>Punt</td>\n",
       "      <td>KICK_OFF</td>\n",
       "      <td>3.0</td>\n",
       "      <td>1:59</td>\n",
       "      <td>outdoors</td>\n",
       "      <td>grass</td>\n",
       "    </tr>\n",
       "    <tr>\n",
       "      <th>2</th>\n",
       "      <td>50</td>\n",
       "      <td>2019_01_GB_CHI</td>\n",
       "      <td>2019090500</td>\n",
       "      <td>CHI</td>\n",
       "      <td>GB</td>\n",
       "      <td>REG</td>\n",
       "      <td>1</td>\n",
       "      <td>GB</td>\n",
       "      <td>CHI</td>\n",
       "      <td>GB</td>\n",
       "      <td>...</td>\n",
       "      <td>0.0</td>\n",
       "      <td>2019</td>\n",
       "      <td>1</td>\n",
       "      <td>0</td>\n",
       "      <td>Punt</td>\n",
       "      <td>RUSH</td>\n",
       "      <td>3.0</td>\n",
       "      <td>1:59</td>\n",
       "      <td>outdoors</td>\n",
       "      <td>grass</td>\n",
       "    </tr>\n",
       "    <tr>\n",
       "      <th>3</th>\n",
       "      <td>71</td>\n",
       "      <td>2019_01_GB_CHI</td>\n",
       "      <td>2019090500</td>\n",
       "      <td>CHI</td>\n",
       "      <td>GB</td>\n",
       "      <td>REG</td>\n",
       "      <td>1</td>\n",
       "      <td>GB</td>\n",
       "      <td>CHI</td>\n",
       "      <td>GB</td>\n",
       "      <td>...</td>\n",
       "      <td>0.0</td>\n",
       "      <td>2019</td>\n",
       "      <td>1</td>\n",
       "      <td>0</td>\n",
       "      <td>Punt</td>\n",
       "      <td>PASS</td>\n",
       "      <td>3.0</td>\n",
       "      <td>1:59</td>\n",
       "      <td>outdoors</td>\n",
       "      <td>grass</td>\n",
       "    </tr>\n",
       "    <tr>\n",
       "      <th>4</th>\n",
       "      <td>95</td>\n",
       "      <td>2019_01_GB_CHI</td>\n",
       "      <td>2019090500</td>\n",
       "      <td>CHI</td>\n",
       "      <td>GB</td>\n",
       "      <td>REG</td>\n",
       "      <td>1</td>\n",
       "      <td>GB</td>\n",
       "      <td>CHI</td>\n",
       "      <td>GB</td>\n",
       "      <td>...</td>\n",
       "      <td>0.0</td>\n",
       "      <td>2019</td>\n",
       "      <td>1</td>\n",
       "      <td>0</td>\n",
       "      <td>Punt</td>\n",
       "      <td>SACK</td>\n",
       "      <td>3.0</td>\n",
       "      <td>1:59</td>\n",
       "      <td>outdoors</td>\n",
       "      <td>grass</td>\n",
       "    </tr>\n",
       "    <tr>\n",
       "      <th>...</th>\n",
       "      <td>...</td>\n",
       "      <td>...</td>\n",
       "      <td>...</td>\n",
       "      <td>...</td>\n",
       "      <td>...</td>\n",
       "      <td>...</td>\n",
       "      <td>...</td>\n",
       "      <td>...</td>\n",
       "      <td>...</td>\n",
       "      <td>...</td>\n",
       "      <td>...</td>\n",
       "      <td>...</td>\n",
       "      <td>...</td>\n",
       "      <td>...</td>\n",
       "      <td>...</td>\n",
       "      <td>...</td>\n",
       "      <td>...</td>\n",
       "      <td>...</td>\n",
       "      <td>...</td>\n",
       "      <td>...</td>\n",
       "      <td>...</td>\n",
       "    </tr>\n",
       "    <tr>\n",
       "      <th>94958</th>\n",
       "      <td>4280</td>\n",
       "      <td>2020_21_KC_TB</td>\n",
       "      <td>2021020700</td>\n",
       "      <td>TB</td>\n",
       "      <td>KC</td>\n",
       "      <td>POST</td>\n",
       "      <td>21</td>\n",
       "      <td>KC</td>\n",
       "      <td>TB</td>\n",
       "      <td>TB</td>\n",
       "      <td>...</td>\n",
       "      <td>-22.0</td>\n",
       "      <td>2020</td>\n",
       "      <td>65</td>\n",
       "      <td>0</td>\n",
       "      <td>Turnover</td>\n",
       "      <td>INTERCEPTION</td>\n",
       "      <td>9.0</td>\n",
       "      <td>1:57</td>\n",
       "      <td>outdoors</td>\n",
       "      <td>grass</td>\n",
       "    </tr>\n",
       "    <tr>\n",
       "      <th>94959</th>\n",
       "      <td>4307</td>\n",
       "      <td>2020_21_KC_TB</td>\n",
       "      <td>2021020700</td>\n",
       "      <td>TB</td>\n",
       "      <td>KC</td>\n",
       "      <td>POST</td>\n",
       "      <td>21</td>\n",
       "      <td>TB</td>\n",
       "      <td>KC</td>\n",
       "      <td>TB</td>\n",
       "      <td>...</td>\n",
       "      <td>22.0</td>\n",
       "      <td>2020</td>\n",
       "      <td>66</td>\n",
       "      <td>0</td>\n",
       "      <td>QB kneel</td>\n",
       "      <td>RUSH</td>\n",
       "      <td>3.0</td>\n",
       "      <td>1:33</td>\n",
       "      <td>outdoors</td>\n",
       "      <td>grass</td>\n",
       "    </tr>\n",
       "    <tr>\n",
       "      <th>94960</th>\n",
       "      <td>4328</td>\n",
       "      <td>2020_21_KC_TB</td>\n",
       "      <td>2021020700</td>\n",
       "      <td>TB</td>\n",
       "      <td>KC</td>\n",
       "      <td>POST</td>\n",
       "      <td>21</td>\n",
       "      <td>TB</td>\n",
       "      <td>KC</td>\n",
       "      <td>TB</td>\n",
       "      <td>...</td>\n",
       "      <td>22.0</td>\n",
       "      <td>2020</td>\n",
       "      <td>66</td>\n",
       "      <td>0</td>\n",
       "      <td>QB kneel</td>\n",
       "      <td>RUSH</td>\n",
       "      <td>3.0</td>\n",
       "      <td>1:33</td>\n",
       "      <td>outdoors</td>\n",
       "      <td>grass</td>\n",
       "    </tr>\n",
       "    <tr>\n",
       "      <th>94961</th>\n",
       "      <td>4349</td>\n",
       "      <td>2020_21_KC_TB</td>\n",
       "      <td>2021020700</td>\n",
       "      <td>TB</td>\n",
       "      <td>KC</td>\n",
       "      <td>POST</td>\n",
       "      <td>21</td>\n",
       "      <td>TB</td>\n",
       "      <td>KC</td>\n",
       "      <td>TB</td>\n",
       "      <td>...</td>\n",
       "      <td>22.0</td>\n",
       "      <td>2020</td>\n",
       "      <td>66</td>\n",
       "      <td>0</td>\n",
       "      <td>QB kneel</td>\n",
       "      <td>RUSH</td>\n",
       "      <td>3.0</td>\n",
       "      <td>1:33</td>\n",
       "      <td>outdoors</td>\n",
       "      <td>grass</td>\n",
       "    </tr>\n",
       "    <tr>\n",
       "      <th>94962</th>\n",
       "      <td>4370</td>\n",
       "      <td>2020_21_KC_TB</td>\n",
       "      <td>2021020700</td>\n",
       "      <td>TB</td>\n",
       "      <td>KC</td>\n",
       "      <td>POST</td>\n",
       "      <td>21</td>\n",
       "      <td>TB</td>\n",
       "      <td>KC</td>\n",
       "      <td>NaN</td>\n",
       "      <td>...</td>\n",
       "      <td>22.0</td>\n",
       "      <td>2020</td>\n",
       "      <td>66</td>\n",
       "      <td>0</td>\n",
       "      <td>QB kneel</td>\n",
       "      <td>END_GAME</td>\n",
       "      <td>3.0</td>\n",
       "      <td>1:33</td>\n",
       "      <td>outdoors</td>\n",
       "      <td>grass</td>\n",
       "    </tr>\n",
       "  </tbody>\n",
       "</table>\n",
       "<p>94963 rows × 35 columns</p>\n",
       "</div>"
      ],
      "text/plain": [
       "       play_id         game_id  old_game_id home_team away_team season_type  \\\n",
       "0            1  2019_01_GB_CHI   2019090500       CHI        GB         REG   \n",
       "1           35  2019_01_GB_CHI   2019090500       CHI        GB         REG   \n",
       "2           50  2019_01_GB_CHI   2019090500       CHI        GB         REG   \n",
       "3           71  2019_01_GB_CHI   2019090500       CHI        GB         REG   \n",
       "4           95  2019_01_GB_CHI   2019090500       CHI        GB         REG   \n",
       "...        ...             ...          ...       ...       ...         ...   \n",
       "94958     4280   2020_21_KC_TB   2021020700        TB        KC        POST   \n",
       "94959     4307   2020_21_KC_TB   2021020700        TB        KC        POST   \n",
       "94960     4328   2020_21_KC_TB   2021020700        TB        KC        POST   \n",
       "94961     4349   2020_21_KC_TB   2021020700        TB        KC        POST   \n",
       "94962     4370   2020_21_KC_TB   2021020700        TB        KC        POST   \n",
       "\n",
       "       week OffenseTeam DefenseTeam side_of_field  ...  score_differential  \\\n",
       "0         1         NaN         NaN           NaN  ...                 NaN   \n",
       "1         1          GB         CHI           CHI  ...                 0.0   \n",
       "2         1          GB         CHI            GB  ...                 0.0   \n",
       "3         1          GB         CHI            GB  ...                 0.0   \n",
       "4         1          GB         CHI            GB  ...                 0.0   \n",
       "...     ...         ...         ...           ...  ...                 ...   \n",
       "94958    21          KC          TB            TB  ...               -22.0   \n",
       "94959    21          TB          KC            TB  ...                22.0   \n",
       "94960    21          TB          KC            TB  ...                22.0   \n",
       "94961    21          TB          KC            TB  ...                22.0   \n",
       "94962    21          TB          KC           NaN  ...                22.0   \n",
       "\n",
       "      season  series  series_success  series_result  play_type_nfl  \\\n",
       "0       2019       1               0           Punt     GAME_START   \n",
       "1       2019       1               0           Punt       KICK_OFF   \n",
       "2       2019       1               0           Punt           RUSH   \n",
       "3       2019       1               0           Punt           PASS   \n",
       "4       2019       1               0           Punt           SACK   \n",
       "...      ...     ...             ...            ...            ...   \n",
       "94958   2020      65               0       Turnover   INTERCEPTION   \n",
       "94959   2020      66               0       QB kneel           RUSH   \n",
       "94960   2020      66               0       QB kneel           RUSH   \n",
       "94961   2020      66               0       QB kneel           RUSH   \n",
       "94962   2020      66               0       QB kneel       END_GAME   \n",
       "\n",
       "       drive_play_count  drive_time_of_possession      roof  surface  \n",
       "0                   NaN                       NaN  outdoors    grass  \n",
       "1                   3.0                      1:59  outdoors    grass  \n",
       "2                   3.0                      1:59  outdoors    grass  \n",
       "3                   3.0                      1:59  outdoors    grass  \n",
       "4                   3.0                      1:59  outdoors    grass  \n",
       "...                 ...                       ...       ...      ...  \n",
       "94958               9.0                      1:57  outdoors    grass  \n",
       "94959               3.0                      1:33  outdoors    grass  \n",
       "94960               3.0                      1:33  outdoors    grass  \n",
       "94961               3.0                      1:33  outdoors    grass  \n",
       "94962               3.0                      1:33  outdoors    grass  \n",
       "\n",
       "[94963 rows x 35 columns]"
      ]
     },
     "execution_count": 11,
     "metadata": {},
     "output_type": "execute_result"
    }
   ],
   "source": [
    "pbp_all.drop(columns=['stadium'])#stadium labels better on"
   ]
  },
  {
   "cell_type": "code",
   "execution_count": 12,
   "metadata": {},
   "outputs": [],
   "source": [
    "pbp_all.rename(columns={'surface':'surface_type'}, inplace=True)"
   ]
  },
  {
   "cell_type": "code",
   "execution_count": 13,
   "metadata": {},
   "outputs": [
    {
     "name": "stdout",
     "output_type": "stream",
     "text": [
      "(94963, 36)\n"
     ]
    }
   ],
   "source": [
    "print(pbp_all.shape)\n",
    "pbp_all['home_team'] = pbp_all['home_team'].str.replace('LAR', 'LA') #need to match game IDs from other dataset\n",
    "pbp_all['home_team'] = pbp_all['home_team'].str.replace('OAK', 'LV') #need to match game IDs from other dataset, Raiders moved to Vegas after 2019\n",
    "pbp_all['away_team'] = pbp_all['away_team'].str.replace('LAR', 'LA') #need to match game IDs from other dataset\n",
    "pbp_all['away_team'] = pbp_all['away_team'].str.replace('OAK', 'LV') #need to match game IDs from other dataset, Raiders moved to Vegas after 2019"
   ]
  },
  {
   "cell_type": "code",
   "execution_count": 14,
   "metadata": {},
   "outputs": [],
   "source": [
    "pbp_all['game_id'] = pbp_all['game_id'].str.replace('LAR', 'LA') #need to match game IDs from other dataset\n",
    "pbp_all['game_id'] = pbp_all['game_id'].str.replace('OAK', 'LV') #need to match game IDs from other dataset, Raiders moved to Vegas after 2019"
   ]
  },
  {
   "cell_type": "code",
   "execution_count": 15,
   "metadata": {},
   "outputs": [
    {
     "data": {
      "text/plain": [
       "1.0    32666\n",
       "2.0    24235\n",
       "NaN    15234\n",
       "3.0    14954\n",
       "4.0     7874\n",
       "Name: Down, dtype: int64"
      ]
     },
     "execution_count": 15,
     "metadata": {},
     "output_type": "execute_result"
    }
   ],
   "source": [
    "pbp_all['Down'].value_counts(dropna=False)"
   ]
  },
  {
   "cell_type": "code",
   "execution_count": 16,
   "metadata": {},
   "outputs": [],
   "source": [
    "pbp_all['Down'].fillna(0, inplace=True)\n",
    "pbp_all['Down'] = pbp_all['Down'].astype(int)"
   ]
  },
  {
   "cell_type": "code",
   "execution_count": 17,
   "metadata": {},
   "outputs": [],
   "source": [
    "pbp_all['drive'].fillna(0, inplace=True)\n",
    "pbp_all['drive'] = pbp_all['drive'].astype(int)"
   ]
  },
  {
   "cell_type": "code",
   "execution_count": 18,
   "metadata": {},
   "outputs": [],
   "source": [
    "pbp_all.loc[pbp_all['play_type_nfl'] == 'KICK_OFF', 'play_type'] = pbp_all['play_type'].fillna(\"kickoff\") "
   ]
  },
  {
   "cell_type": "code",
   "execution_count": 19,
   "metadata": {},
   "outputs": [],
   "source": [
    "pbp_all['play_type'].fillna('no_play', inplace=True) #Fixing nulls in play type all plays penalties"
   ]
  },
  {
   "cell_type": "code",
   "execution_count": 20,
   "metadata": {},
   "outputs": [],
   "source": [
    "pbp_all['yards_gained'].fillna(0, inplace=True) #Offsetting penalties no yards gained"
   ]
  },
  {
   "cell_type": "code",
   "execution_count": 21,
   "metadata": {},
   "outputs": [],
   "source": [
    "pbp_all['drive_play_count'].fillna(0, inplace=True)\n",
    "pbp_all['drive_time_of_possession'].fillna(0, inplace=True)"
   ]
  },
  {
   "cell_type": "code",
   "execution_count": 22,
   "metadata": {},
   "outputs": [],
   "source": [
    "pbp_all.drop(pbp_all[pbp_all['series_result'].isna()].index, inplace=True)"
   ]
  },
  {
   "cell_type": "code",
   "execution_count": 23,
   "metadata": {},
   "outputs": [
    {
     "data": {
      "text/plain": [
       "play_id                         0\n",
       "game_id                         0\n",
       "old_game_id                     0\n",
       "home_team                       0\n",
       "away_team                       0\n",
       "season_type                     0\n",
       "week                            0\n",
       "OffenseTeam                  4971\n",
       "DefenseTeam                  4971\n",
       "side_of_field                6625\n",
       "yardline_100                 6573\n",
       "date                            0\n",
       "quarter_seconds_remaining      50\n",
       "half_seconds_remaining         50\n",
       "game_seconds_remaining         50\n",
       "game_half                       0\n",
       "drive                           0\n",
       "Quarter                         0\n",
       "Down                            0\n",
       "YardsToGo                       0\n",
       "Description                     0\n",
       "play_type                       0\n",
       "yards_gained                    0\n",
       "Offteam_score                4971\n",
       "defteam_score                4971\n",
       "score_differential           4971\n",
       "season                          0\n",
       "series                          0\n",
       "series_success                  0\n",
       "series_result                   0\n",
       "stadium                         0\n",
       "play_type_nfl                   0\n",
       "drive_play_count                0\n",
       "drive_time_of_possession        0\n",
       "roof                            0\n",
       "surface_type                    0\n",
       "dtype: int64"
      ]
     },
     "execution_count": 23,
     "metadata": {},
     "output_type": "execute_result"
    }
   ],
   "source": [
    "pbp_all.isnull().sum()"
   ]
  },
  {
   "cell_type": "markdown",
   "metadata": {},
   "source": [
    "Injuries dataset processing"
   ]
  },
  {
   "cell_type": "code",
   "execution_count": 24,
   "metadata": {},
   "outputs": [
    {
     "name": "stdout",
     "output_type": "stream",
     "text": [
      "(731, 84) (782, 84)\n",
      "(1513, 84)\n"
     ]
    }
   ],
   "source": [
    "pbp_injuries_19 = pd.read_csv('../../Data/play-by-play/2019_game_injuries.csv')\n",
    "pbp_injuries_20 = pd.read_csv('../../Data/play-by-play/2020_game_injuries.csv')\n",
    "print(pbp_injuries_19.shape, pbp_injuries_20.shape)\n",
    "pbp_injuries_all = pd.concat([pbp_injuries_19, pbp_injuries_20], axis=0)\n",
    "print(pbp_injuries_all.shape)"
   ]
  },
  {
   "cell_type": "code",
   "execution_count": 25,
   "metadata": {},
   "outputs": [
    {
     "name": "stdout",
     "output_type": "stream",
     "text": [
      "(1513, 48)\n"
     ]
    }
   ],
   "source": [
    "pbp_injuries_all.drop(columns=['Unnamed: 0','connector', 'posteam_type','game_date','injured_first_name', 'injured_last_name',\n",
    "       'injured_team', 'injured_player_num','jersey_number','first_name', 'last_name','college','game_type','football_name', 'smart_id',\n",
    "       'week.1','entry_year','season.1','loser_is_home', 'Home_Team', 'Away_Team','Home_abbr', 'Away_abbr','distance_miles','Avg_Feels_Like',\n",
    "       'Avg_Wind_MPH','Avg_Humidity_Percent','Home_latitude', 'Home_longitude', 'Away_latitude', 'Away_longitude', 'half_seconds_remaining', \n",
    "       'depth_chart_position','day','tov_w','tov_l'], inplace=True)\n",
    "print(pbp_injuries_all.shape)"
   ]
  },
  {
   "cell_type": "code",
   "execution_count": 26,
   "metadata": {},
   "outputs": [],
   "source": [
    "pbp_injuries_all.sort_values(by=['season', 'week', 'game_id', 'game_seconds_remaining', 'date'],\n",
    "                             ascending=[True, True, True, True, False], ignore_index=True, inplace=True)"
   ]
  },
  {
   "cell_type": "code",
   "execution_count": 27,
   "metadata": {},
   "outputs": [],
   "source": [
    "new_dates = []\n",
    "pbp_injuries_all['date'] = pbp_injuries_all['date'].astype(str)\n",
    "for date in list(pbp_injuries_all['date']):\n",
    "    #print(date)\n",
    "    if len(date.split()) > 1:\n",
    "        #print('pandas format:', date)\n",
    "        date = date.split()[0]\n",
    "        year = date.split('-')[0]\n",
    "        day = date.split('-')[1]\n",
    "        month = date.split('-')[2]\n",
    "        new_date = year + '-' + month + '-' + day\n",
    "        #print(new_date)\n",
    "        new_dates.append(new_date)\n",
    "    else:\n",
    "        #print('string format (month first)', date)\n",
    "        new_date = pd.to_datetime(date, dayfirst=False)\n",
    "        new_date = str(new_date).split()[0]\n",
    "        #print('new date:', new_date)\n",
    "        new_dates.append(new_date)\n",
    "\n",
    "pbp_injuries_all['date'] = new_dates"
   ]
  },
  {
   "cell_type": "code",
   "execution_count": 28,
   "metadata": {},
   "outputs": [],
   "source": [
    "pbp_injuries_all.rename(columns={'posteam' : 'OffenseTeam', 'defteam' : 'DefenseTeam', 'down':'Down', 'qtr':'Quarter', 'desc':'Description', 'ydstogo':'YardsToGo',\n",
    "                   'full_name':'injured_player_name', 'team':'injured_team', 'winner.tie':'WinningTeam', 'loser.tie':'LosingTeam', 'pts_w':'WinnerScore',\n",
    "                   'pts_l':'LoserScore','yds_w':'WinnerYards', 'yds_l':'LoserYards'}, inplace=True)"
   ]
  },
  {
   "cell_type": "code",
   "execution_count": 29,
   "metadata": {},
   "outputs": [
    {
     "name": "stdout",
     "output_type": "stream",
     "text": [
      "4    257\n",
      "4    256\n",
      "3    212\n",
      "3    184\n",
      "2    179\n",
      "2    168\n",
      "1    140\n",
      "1    110\n",
      "5      6\n",
      "c      1\n",
      "Name: Quarter, dtype: int64\n",
      "new value counts\n",
      "4    514\n",
      "3    396\n",
      "2    347\n",
      "1    250\n",
      "5      6\n",
      "Name: Quarter, dtype: int64\n"
     ]
    }
   ],
   "source": [
    "print(pbp_injuries_all['Quarter'].value_counts(dropna=False))\n",
    "pbp_injuries_all['Quarter'].replace('c', 4, inplace=True)\n",
    "pbp_injuries_all['Quarter'] = pbp_injuries_all['Quarter'].astype(int)\n",
    "print('new value counts')\n",
    "print(pbp_injuries_all['Quarter'].value_counts(dropna=False))"
   ]
  },
  {
   "cell_type": "code",
   "execution_count": 30,
   "metadata": {},
   "outputs": [
    {
     "name": "stdout",
     "output_type": "stream",
     "text": [
      "1.0    626\n",
      "2.0    467\n",
      "3.0    295\n",
      "4.0     85\n",
      "NaN     40\n",
      "Name: Down, dtype: int64\n",
      "New Value Counts:\n"
     ]
    },
    {
     "data": {
      "text/plain": [
       "1    626\n",
       "2    467\n",
       "3    295\n",
       "4     85\n",
       "0     40\n",
       "Name: Down, dtype: int64"
      ]
     },
     "execution_count": 30,
     "metadata": {},
     "output_type": "execute_result"
    }
   ],
   "source": [
    "print(pbp_injuries_all['Down'].value_counts(dropna=False)) #fixing Down column in Injuries dataset\n",
    "# pbp_injuries_all[pbp_injuries_all['Down'].isna()].to_csv('injuries-down-0-data.csv', index=False) #all kick offs\n",
    "pbp_injuries_all['Down'] = pbp_injuries_all['Down'].fillna(0).astype(int)\n",
    "print('New Value Counts:')\n",
    "pbp_injuries_all['Down'].value_counts(dropna=False) #fixing Down column in Injuries dataset"
   ]
  },
  {
   "cell_type": "code",
   "execution_count": 31,
   "metadata": {},
   "outputs": [],
   "source": [
    "pbp_injuries_all.drop(columns=['WinningTeam', 'LosingTeam', 'WinnerScore', 'LoserScore', 'WinnerYards', 'LoserYards'],\n",
    "                      inplace=True) # None of these \"Features\" are likely to affect player injuries on per-play basis"
   ]
  },
  {
   "cell_type": "code",
   "execution_count": 32,
   "metadata": {},
   "outputs": [],
   "source": [
    "pbp_injuries_all['game_half'].replace('Half1', 1, inplace=True)\n",
    "pbp_injuries_all['game_half'].replace('Half2', 2, inplace=True)\n",
    "pbp_injuries_all['game_half'].replace('Overtime', 3, inplace=True)"
   ]
  },
  {
   "cell_type": "code",
   "execution_count": 33,
   "metadata": {},
   "outputs": [
    {
     "name": "stdout",
     "output_type": "stream",
     "text": [
      "(10, 42)\n",
      "(0, 42)\n"
     ]
    }
   ],
   "source": [
    "print(pbp_injuries_all[pbp_injuries_all['injury area'].isna()].shape)\n",
    "pbp_injuries_all['injury area'].fillna('unknown', inplace=True)\n",
    "print(pbp_injuries_all[pbp_injuries_all['injury area'].isna()].shape)"
   ]
  },
  {
   "cell_type": "code",
   "execution_count": 34,
   "metadata": {},
   "outputs": [
    {
     "name": "stdout",
     "output_type": "stream",
     "text": [
      "Active             1181\n",
      "R/Injured           161\n",
      "NaN                 143\n",
      "R/COVID-19           11\n",
      "R/Injured; DFR        5\n",
      "Inactive              4\n",
      "Prac Sq.; Inj         3\n",
      "Waivers/No Rec.       2\n",
      "R/Susp < 1Yr          1\n",
      "PS; Exc               1\n",
      "R/Left Squad          1\n",
      "Name: status, dtype: int64\n"
     ]
    }
   ],
   "source": [
    "print(pbp_injuries_all['status'].value_counts(dropna=False))\n",
    "pbp_injuries_all['status'].fillna('unknown', inplace=True)"
   ]
  },
  {
   "cell_type": "code",
   "execution_count": 35,
   "metadata": {},
   "outputs": [],
   "source": [
    "pbp_injuries_all['Contact/ non-contact'].replace('cotnact', 'contact', inplace=True) #spelling error in raw data\n",
    "pbp_injuries_all['Contact/ non-contact'].fillna('unknown', inplace=True)"
   ]
  },
  {
   "cell_type": "code",
   "execution_count": 36,
   "metadata": {},
   "outputs": [],
   "source": [
    "#correcting mispelling and filling nulls under player role\n",
    "pbp_injuries_all['player role'].replace('unkown', 'unknown', inplace=True)\n",
    "pbp_injuries_all['player role'].replace('tacker', 'tackler', inplace=True)\n",
    "pbp_injuries_all['player role'].replace('pas defender', 'pass defender', inplace=True)\n",
    "pbp_injuries_all['player role'].replace('pass bocker', 'pass blocker', inplace=True)\n",
    "pbp_injuries_all['player role'].replace('pass blcoker', 'pass blocker', inplace=True)\n",
    "pbp_injuries_all['player role'].replace('pass reciever', 'pass receiver', inplace=True)\n",
    "pbp_injuries_all['player role'].replace('pass reciver', 'pass receiver', inplace=True)\n",
    "pbp_injuries_all['player role'].replace('passs catcher', 'pass catcher', inplace=True)\n",
    "pbp_injuries_all['player role'].replace('psss rusher', 'pass rusher', inplace=True)\n",
    "pbp_injuries_all['player role'].replace('run blcoker', 'run blocker', inplace=True)\n",
    "pbp_injuries_all['player role'].replace('punt return', 'punt return team', inplace=True) #player injured was not the returner\n",
    "pbp_injuries_all['player role'].replace('punt receiver', 'punt returner', inplace=True) #no such thing as punt receiver\n",
    "pbp_injuries_all['player role'].replace('punt return ream', 'punt return team', inplace=True)\n",
    "pbp_injuries_all['player role'].replace('runner', 'ball carrier', inplace=True) #2 rows, runner == ball carrier\n",
    "pbp_injuries_all['player role'].replace('pass', 'pass rusher', inplace=True) # 1 play, player is actually pass rusher\n",
    "\n",
    "\n",
    "pbp_injuries_all['player role'].fillna('unknown', inplace=True)\n"
   ]
  },
  {
   "cell_type": "code",
   "execution_count": 37,
   "metadata": {},
   "outputs": [],
   "source": [
    "pbp_injuries_all['HOME_day_since_last_game'].replace(0, 20, inplace=True) #assume players well rested in Week1\n",
    "pbp_injuries_all['AWAY_day_since_last_game'].replace(0, 20, inplace=True) #assume players well rested in Week1"
   ]
  },
  {
   "cell_type": "code",
   "execution_count": 38,
   "metadata": {},
   "outputs": [],
   "source": [
    "pbp_injuries_all.drop(columns=['stadium','surface_type','Description'],inplace=True)#have all these columns in other dataset"
   ]
  },
  {
   "cell_type": "code",
   "execution_count": 39,
   "metadata": {},
   "outputs": [
    {
     "name": "stdout",
     "output_type": "stream",
     "text": [
      "(1513, 39)\n"
     ]
    }
   ],
   "source": [
    "print(pbp_injuries_all.shape)\n",
    "pbp_injuries_all['game_id'] = pbp_injuries_all['game_id'].str.replace('LAR', 'LA') #need to match game IDs from other dataset\n",
    "pbp_injuries_all['game_id'] = pbp_injuries_all['game_id'].str.replace('OAK', 'LV') #need to match game IDs from other dataset, Raiders moved to Vegas after 2019"
   ]
  },
  {
   "cell_type": "code",
   "execution_count": 40,
   "metadata": {},
   "outputs": [
    {
     "name": "stdout",
     "output_type": "stream",
     "text": [
      "(1513, 39)\n"
     ]
    }
   ],
   "source": [
    "print(pbp_injuries_all.shape)\n",
    "pbp_injuries_all['home_team'] = pbp_injuries_all['home_team'].str.replace('LAR', 'LA') #need to match game IDs from other dataset\n",
    "pbp_injuries_all['home_team'] = pbp_injuries_all['home_team'].str.replace('OAK', 'LV') #need to match game IDs from other dataset, Raiders moved to Vegas after 2019\n",
    "pbp_injuries_all['away_team'] = pbp_injuries_all['away_team'].str.replace('LAR', 'LA') #need to match game IDs from other dataset\n",
    "pbp_injuries_all['away_team'] = pbp_injuries_all['away_team'].str.replace('OAK', 'LV') #need to match game IDs from other dataset, Raiders moved to Vegas after 2019"
   ]
  },
  {
   "cell_type": "markdown",
   "metadata": {},
   "source": [
    "**Merging**"
   ]
  },
  {
   "cell_type": "markdown",
   "metadata": {},
   "source": [
    "Inner Join"
   ]
  },
  {
   "cell_type": "code",
   "execution_count": 41,
   "metadata": {},
   "outputs": [
    {
     "name": "stdout",
     "output_type": "stream",
     "text": [
      "All PBP Shape: (94961, 36)\n",
      "All Injuries PBP Shape: (1513, 39)\n"
     ]
    }
   ],
   "source": [
    "print('All PBP Shape:', pbp_all.shape)\n",
    "print('All Injuries PBP Shape:', pbp_injuries_all.shape)"
   ]
  },
  {
   "cell_type": "code",
   "execution_count": 42,
   "metadata": {},
   "outputs": [
    {
     "data": {
      "text/plain": [
       "(1514, 58)"
      ]
     },
     "execution_count": 42,
     "metadata": {},
     "output_type": "execute_result"
    }
   ],
   "source": [
    "pbp_dataset_inner = pd.merge(pbp_all, pbp_injuries_all,\n",
    "                     on=['date', 'season', 'OffenseTeam', 'DefenseTeam', 'Quarter', 'game_seconds_remaining',\n",
    "                          'quarter_seconds_remaining', 'Down', 'YardsToGo','season_type','yardline_100',\n",
    "                          'side_of_field','game_half','week','game_id','home_team','away_team'], how='inner')\n",
    "\n",
    "# pbp_dataset_inner = pd.merge(pbp_all, pbp_injuries_all,\n",
    "#                       on=['date', 'season', 'Quarter', 'game_seconds_remaining',\n",
    "#                           'quarter_seconds_remaining', 'Down', 'YardsToGo'], how='inner')\n",
    "\n",
    "pbp_dataset_inner.shape #number of injuries we have in dataset out of 1,513"
   ]
  },
  {
   "cell_type": "code",
   "execution_count": 43,
   "metadata": {},
   "outputs": [
    {
     "data": {
      "text/plain": [
       "Index(['play_id', 'game_id', 'old_game_id', 'home_team', 'away_team',\n",
       "       'season_type', 'week', 'OffenseTeam', 'DefenseTeam', 'side_of_field',\n",
       "       'yardline_100', 'date', 'quarter_seconds_remaining',\n",
       "       'half_seconds_remaining', 'game_seconds_remaining', 'game_half',\n",
       "       'drive', 'Quarter', 'Down', 'YardsToGo', 'Description', 'play_type',\n",
       "       'yards_gained', 'Offteam_score', 'defteam_score', 'score_differential',\n",
       "       'season', 'series', 'series_success', 'series_result', 'stadium',\n",
       "       'play_type_nfl', 'drive_play_count', 'drive_time_of_possession', 'roof',\n",
       "       'surface_type', 'player_id', 'yrdln', 'Contact/ non-contact',\n",
       "       'injury area', 'player role', 'injured_team', 'position', 'status',\n",
       "       'injured_player_name', 'birth_date', 'height', 'weight', 'years_exp',\n",
       "       'time', 'num_injuries', 'num_plays', 'surface', 'dome', 'Avg_Temp',\n",
       "       'Avg_Percipitation_Prob_Percent', 'HOME_day_since_last_game',\n",
       "       'AWAY_day_since_last_game'],\n",
       "      dtype='object')"
      ]
     },
     "execution_count": 43,
     "metadata": {},
     "output_type": "execute_result"
    }
   ],
   "source": [
    "pbp_dataset_inner.columns"
   ]
  },
  {
   "cell_type": "code",
   "execution_count": 44,
   "metadata": {},
   "outputs": [],
   "source": [
    "#pbp_dataset_inner.to_csv('kickoff_search.csv', index=False)"
   ]
  },
  {
   "cell_type": "markdown",
   "metadata": {},
   "source": [
    "Full Outer Join"
   ]
  },
  {
   "cell_type": "code",
   "execution_count": 45,
   "metadata": {},
   "outputs": [
    {
     "data": {
      "text/plain": [
       "(94961, 58)"
      ]
     },
     "execution_count": 45,
     "metadata": {},
     "output_type": "execute_result"
    }
   ],
   "source": [
    "pbp_dataset_outer = pd.merge(pbp_all, pbp_injuries_all,\n",
    "                       on=['date', 'season', 'OffenseTeam', 'DefenseTeam', 'Quarter', 'game_seconds_remaining',\n",
    "                          'quarter_seconds_remaining', 'Down', 'YardsToGo','season_type','yardline_100',\n",
    "                          'side_of_field','game_half','week','game_id','home_team','away_team'], how='outer')\n",
    "pbp_dataset_outer.shape"
   ]
  },
  {
   "cell_type": "code",
   "execution_count": 46,
   "metadata": {},
   "outputs": [],
   "source": [
    "#pbp_dataset_outer.to_csv('missing_rows.csv', index=False)"
   ]
  },
  {
   "cell_type": "markdown",
   "metadata": {},
   "source": [
    "Left Outer Join"
   ]
  },
  {
   "cell_type": "code",
   "execution_count": 47,
   "metadata": {},
   "outputs": [
    {
     "data": {
      "text/plain": [
       "(94961, 58)"
      ]
     },
     "execution_count": 47,
     "metadata": {},
     "output_type": "execute_result"
    }
   ],
   "source": [
    "pbp_dataset_left_outer = pd.merge(pbp_all, pbp_injuries_all,\n",
    "                       on=['date', 'season', 'OffenseTeam', 'DefenseTeam', 'Quarter', 'game_seconds_remaining',\n",
    "                          'quarter_seconds_remaining', 'Down', 'YardsToGo','season_type','yardline_100',\n",
    "                          'side_of_field','game_half','week','game_id','home_team','away_team'], how='left')\n",
    "pbp_dataset_left_outer.shape"
   ]
  },
  {
   "cell_type": "code",
   "execution_count": 48,
   "metadata": {},
   "outputs": [],
   "source": [
    "pbp_dataset_left_outer.drop_duplicates(ignore_index=True, inplace=True)"
   ]
  },
  {
   "cell_type": "code",
   "execution_count": 49,
   "metadata": {},
   "outputs": [
    {
     "data": {
      "text/plain": [
       "(94961, 58)"
      ]
     },
     "execution_count": 49,
     "metadata": {},
     "output_type": "execute_result"
    }
   ],
   "source": [
    "pbp_dataset_left_outer.shape"
   ]
  },
  {
   "cell_type": "code",
   "execution_count": 50,
   "metadata": {},
   "outputs": [],
   "source": [
    "pbp_dataset_left_outer.drop(pbp_dataset_left_outer[pbp_dataset_left_outer['OffenseTeam'].isna()].index, inplace=True)"
   ]
  },
  {
   "cell_type": "code",
   "execution_count": 51,
   "metadata": {},
   "outputs": [],
   "source": [
    "pbp_dataset_left_outer.drop(pbp_dataset_left_outer[pbp_dataset_left_outer['side_of_field'].isna()].index, inplace=True) #Always an end of quarter/endofgame"
   ]
  },
  {
   "cell_type": "code",
   "execution_count": 52,
   "metadata": {},
   "outputs": [],
   "source": [
    "#pbp_dataset_left_outer.to_csv('rows.csv', index=False)"
   ]
  },
  {
   "cell_type": "code",
   "execution_count": 53,
   "metadata": {},
   "outputs": [],
   "source": [
    "pbp_dataset_left_outer.drop(columns=['yrdln','time','surface','dome'], inplace=True)"
   ]
  },
  {
   "cell_type": "markdown",
   "metadata": {},
   "source": [
    "Certain plays in games are missingt information such as temperature, number of plays etc.\n",
    "\n",
    "This information can be considered as the same as other plays in the same game that we do not have nulls for.\n",
    "\n",
    "Because of this we can create a df of the specific game information and merge that back to our dataset to have all information for all plays in all games"
   ]
  },
  {
   "cell_type": "code",
   "execution_count": null,
   "metadata": {},
   "outputs": [
    {
     "name": "stdout",
     "output_type": "stream",
     "text": [
      "Shape before merging: (88336, 54)\n"
     ]
    },
    {
     "name": "stderr",
     "output_type": "stream",
     "text": [
      "C:\\Users\\Owner\\AppData\\Local\\Temp\\ipykernel_8456\\1998381468.py:5: SettingWithCopyWarning: \n",
      "A value is trying to be set on a copy of a slice from a DataFrame\n",
      "\n",
      "See the caveats in the documentation: https://pandas.pydata.org/pandas-docs/stable/user_guide/indexing.html#returning-a-view-versus-a-copy\n",
      "  game_info_df.drop_duplicates(ignore_index=True, inplace=True)\n"
     ]
    },
    {
     "name": "stdout",
     "output_type": "stream",
     "text": [
      "Shape after merging: (88336, 54)\n"
     ]
    }
   ],
   "source": [
    "print(\"Shape before merging:\", pbp_dataset_left_outer.shape)\n",
    "game_info_df = pbp_injuries_all[['game_id', 'num_plays', 'num_injuries', 'Avg_Temp', 'Avg_Percipitation_Prob_Percent',\n",
    "                                 'HOME_day_since_last_game', 'AWAY_day_since_last_game']]\n",
    "game_info_df.drop_duplicates(ignore_index=True, inplace=True)\n",
    "pbp_dataset_left_outer.drop(columns=['num_plays', 'num_injuries', 'Avg_Temp', 'Avg_Percipitation_Prob_Percent', \n",
    "                                     'HOME_day_since_last_game', 'AWAY_day_since_last_game'], inplace=True)\n",
    "\n",
    "pbp_dataset_left_outer2 = pd.merge(pbp_dataset_left_outer, game_info_df, on='game_id', how='left')\n",
    "pbp_dataset_left_outer2.drop_duplicates(ignore_index=True, inplace=True)\n",
    "print(\"Shape after merging:\", pbp_dataset_left_outer2.shape)"
   ]
  },
  {
   "cell_type": "code",
   "execution_count": 56,
   "metadata": {},
   "outputs": [
    {
     "data": {
      "text/plain": [
       "play_id                               0\n",
       "game_id                               0\n",
       "old_game_id                           0\n",
       "home_team                             0\n",
       "away_team                             0\n",
       "season_type                           0\n",
       "week                                  0\n",
       "OffenseTeam                           0\n",
       "DefenseTeam                           0\n",
       "side_of_field                         0\n",
       "yardline_100                          0\n",
       "date                                  0\n",
       "quarter_seconds_remaining             0\n",
       "half_seconds_remaining                0\n",
       "game_seconds_remaining                0\n",
       "game_half                             0\n",
       "drive                                 0\n",
       "Quarter                               0\n",
       "Down                                  0\n",
       "YardsToGo                             0\n",
       "Description                           0\n",
       "play_type                             0\n",
       "yards_gained                          0\n",
       "Offteam_score                         0\n",
       "defteam_score                         0\n",
       "score_differential                    0\n",
       "season                                0\n",
       "series                                0\n",
       "series_success                        0\n",
       "series_result                         0\n",
       "stadium                               0\n",
       "play_type_nfl                         0\n",
       "drive_play_count                      0\n",
       "drive_time_of_possession              0\n",
       "roof                                  0\n",
       "surface_type                          0\n",
       "player_id                         86822\n",
       "Contact/ non-contact              86822\n",
       "injury area                       86822\n",
       "player role                       86822\n",
       "injured_team                      86822\n",
       "position                          86822\n",
       "status                            86822\n",
       "injured_player_name               86822\n",
       "birth_date                        86822\n",
       "height                            86822\n",
       "weight                            86822\n",
       "years_exp                         86822\n",
       "num_plays                          8733\n",
       "num_injuries                       8733\n",
       "Avg_Temp                           8733\n",
       "Avg_Percipitation_Prob_Percent     8733\n",
       "HOME_day_since_last_game           8733\n",
       "AWAY_day_since_last_game           8733\n",
       "dtype: int64"
      ]
     },
     "execution_count": 56,
     "metadata": {},
     "output_type": "execute_result"
    }
   ],
   "source": [
    "pbp_dataset_left_outer2.isnull().sum()"
   ]
  },
  {
   "cell_type": "code",
   "execution_count": 57,
   "metadata": {},
   "outputs": [],
   "source": [
    "pbp_dataset_left_outer2['num_injuries'].fillna(0,inplace=True)"
   ]
  },
  {
   "cell_type": "code",
   "execution_count": 58,
   "metadata": {},
   "outputs": [],
   "source": [
    "pbp_dataset_left_outer2['num_plays'].fillna(0, inplace=True)\n",
    "pbp_dataset_left_outer2['num_plays'] = pbp_dataset_left_outer2['num_plays'].astype(int)\n",
    "num_plays_dict={}\n",
    "for game_id in pbp_dataset_left_outer2['game_id'].unique():\n",
    "    game_df = pbp_dataset_left_outer2[pbp_dataset_left_outer2['game_id']==game_id]\n",
    "    if list(game_df['num_plays'])[0] == 0:\n",
    "        #print(game_id, list(game_df['num_plays'])[0])\n",
    "        num_plays_dict[game_id] = game_df.shape[0]"
   ]
  },
  {
   "cell_type": "code",
   "execution_count": 59,
   "metadata": {},
   "outputs": [],
   "source": [
    "def map_new_values(df, column, value_dict):\n",
    "    df[column] = df.apply(\n",
    "        lambda row: value_dict[row['game_id']] if row['game_id'] in value_dict and row[column] == 0 else row[column],\n",
    "        axis=1\n",
    "    )\n",
    "    return df\n",
    "\n",
    "# Map the new values from num_plays_dict to pbp_dataset_left_outer2\n",
    "pbp_dataset_left_outer2 = map_new_values(pbp_dataset_left_outer2, 'num_plays', num_plays_dict)"
   ]
  },
  {
   "cell_type": "code",
   "execution_count": 60,
   "metadata": {},
   "outputs": [],
   "source": [
    "avg_temp = pbp_dataset_left_outer2['Avg_Temp'].mean()\n",
    "avg_precipitation_prob = pbp_dataset_left_outer2['Avg_Percipitation_Prob_Percent'].mean()\n",
    "avg_home_days_since_last_game = pbp_dataset_left_outer2['HOME_day_since_last_game'].mean()\n",
    "avg_away_days_since_last_game = pbp_dataset_left_outer2['AWAY_day_since_last_game'].mean()\n",
    "\n",
    "# Fill the null values with these averages\n",
    "pbp_dataset_left_outer2['Avg_Temp'].fillna(avg_temp, inplace=True)\n",
    "pbp_dataset_left_outer2['Avg_Percipitation_Prob_Percent'].fillna(avg_precipitation_prob, inplace=True)\n",
    "pbp_dataset_left_outer2['HOME_day_since_last_game'].fillna(avg_home_days_since_last_game, inplace=True)\n",
    "pbp_dataset_left_outer2['AWAY_day_since_last_game'].fillna(avg_away_days_since_last_game, inplace=True)"
   ]
  },
  {
   "cell_type": "markdown",
   "metadata": {},
   "source": [
    "**NB**\n",
    "\n",
    "Need to label positive and negative classes. After merging, we have all 1513 injuries in our dataset and our injuries dataset had no nulls under player_id. Therefore we can label positive and negative classes based on whether player ID is null or not.\n",
    "\n",
    "We are labelling the play based on whether any player was injured on the play, 0 if nobody was injured, 1 if anybody was. "
   ]
  },
  {
   "cell_type": "code",
   "execution_count": 61,
   "metadata": {},
   "outputs": [],
   "source": [
    "pbp_dataset_left_outer2['Player-Injured-On-Play'] = pbp_dataset_left_outer2['player_id'].notnull().astype(int)"
   ]
  },
  {
   "cell_type": "code",
   "execution_count": 62,
   "metadata": {},
   "outputs": [],
   "source": [
    "pbp_dataset_left_outer2.drop(columns=['years_exp','weight','height','player_id', 'Contact/ non-contact', 'injury area', 'player role', 'injured_team',\n",
    "                                      'position', 'status', 'injured_player_name', 'birth_date'], inplace=True)"
   ]
  },
  {
   "cell_type": "code",
   "execution_count": 63,
   "metadata": {},
   "outputs": [
    {
     "data": {
      "text/plain": [
       "play_id                           0\n",
       "game_id                           0\n",
       "old_game_id                       0\n",
       "home_team                         0\n",
       "away_team                         0\n",
       "season_type                       0\n",
       "week                              0\n",
       "OffenseTeam                       0\n",
       "DefenseTeam                       0\n",
       "side_of_field                     0\n",
       "yardline_100                      0\n",
       "date                              0\n",
       "quarter_seconds_remaining         0\n",
       "half_seconds_remaining            0\n",
       "game_seconds_remaining            0\n",
       "game_half                         0\n",
       "drive                             0\n",
       "Quarter                           0\n",
       "Down                              0\n",
       "YardsToGo                         0\n",
       "Description                       0\n",
       "play_type                         0\n",
       "yards_gained                      0\n",
       "Offteam_score                     0\n",
       "defteam_score                     0\n",
       "score_differential                0\n",
       "season                            0\n",
       "series                            0\n",
       "series_success                    0\n",
       "series_result                     0\n",
       "stadium                           0\n",
       "play_type_nfl                     0\n",
       "drive_play_count                  0\n",
       "drive_time_of_possession          0\n",
       "roof                              0\n",
       "surface_type                      0\n",
       "num_plays                         0\n",
       "num_injuries                      0\n",
       "Avg_Temp                          0\n",
       "Avg_Percipitation_Prob_Percent    0\n",
       "HOME_day_since_last_game          0\n",
       "AWAY_day_since_last_game          0\n",
       "Player-Injured-On-Play            0\n",
       "dtype: int64"
      ]
     },
     "execution_count": 63,
     "metadata": {},
     "output_type": "execute_result"
    }
   ],
   "source": [
    "pbp_dataset_left_outer2.isnull().sum()"
   ]
  },
  {
   "cell_type": "code",
   "execution_count": 64,
   "metadata": {},
   "outputs": [
    {
     "name": "stdout",
     "output_type": "stream",
     "text": [
      "                 injuries_per_play  num_injuries\n",
      "game_id                                         \n",
      "2019_01_DEN_LV                   2           3.0\n",
      "2019_01_WAS_PHI                  5           6.0\n",
      "2019_03_HOU_LAC                  5           6.0\n",
      "2019_03_NYG_TB                   1           2.0\n",
      "2019_03_NYJ_NE                   1           2.0\n",
      "2019_04_LAC_MIA                  4           5.0\n",
      "2019_04_TB_LA                    3           4.0\n",
      "2019_04_WAS_NYG                  2           3.0\n",
      "2019_05_ARI_CIN                  1           2.0\n",
      "2019_05_IND_KC                   4           5.0\n",
      "2019_07_PHI_DAL                  2           3.0\n",
      "2019_12_CAR_NO                   6           7.0\n",
      "2019_12_TB_ATL                   1           2.0\n",
      "2019_14_CIN_CLE                  1           2.0\n",
      "2019_14_TEN_LV                   2           3.0\n",
      "2019_16_DAL_PHI                  6           7.0\n",
      "2019_17_ATL_TB                   5           6.0\n",
      "2020_01_PIT_NYG                  2           3.0\n",
      "2020_01_TB_NO                    3           4.0\n",
      "2020_01_TEN_DEN                  2           3.0\n",
      "2020_02_NE_SEA                   3           4.0\n",
      "2020_02_SF_NYJ                   6           7.0\n",
      "2020_03_DAL_SEA                  2           3.0\n",
      "2020_03_NYJ_IND                  2           4.0\n",
      "2020_04_DEN_NYJ                  6           7.0\n",
      "2020_05_ARI_NYJ                  4           5.0\n",
      "2020_07_DAL_WAS                  4           5.0\n",
      "2020_08_LA_MIA                   3           4.0\n",
      "2020_08_MIN_GB                   2           3.0\n",
      "2020_08_SF_SEA                   4           5.0\n",
      "2020_10_LAC_MIA                  2           3.0\n",
      "2020_12_CLE_JAX                  3           4.0\n",
      "2020_13_CIN_MIA                 10           9.0\n",
      "2020_15_SF_DAL                   5           6.0\n"
     ]
    }
   ],
   "source": [
    "injuries_per_play = pbp_dataset_left_outer2.groupby('game_id')['Player-Injured-On-Play'].sum()\n",
    "num_injuries = pbp_dataset_left_outer2.groupby('game_id')['num_injuries'].first()\n",
    "matches = injuries_per_play == num_injuries\n",
    "\n",
    "mismatched_games = matches[matches == False].index\n",
    "\n",
    "mismatch_details = pd.DataFrame({\n",
    "    'injuries_per_play': injuries_per_play[mismatched_games],\n",
    "    'num_injuries': num_injuries[mismatched_games]\n",
    "})\n",
    "\n",
    "print(mismatch_details)"
   ]
  },
  {
   "cell_type": "code",
   "execution_count": null,
   "metadata": {},
   "outputs": [
    {
     "name": "stdout",
     "output_type": "stream",
     "text": [
      "Remaining mismatches: 0\n"
     ]
    }
   ],
   "source": [
    "injuries_per_play = pbp_dataset_left_outer2.groupby('game_id')['Player-Injured-On-Play'].sum() # Sum injuries per play per game\n",
    "\n",
    "num_injuries = pbp_dataset_left_outer2.groupby('game_id')['num_injuries'].first() # Take the first value of num_injuries per game\n",
    "\n",
    "mismatched_games = injuries_per_play[injuries_per_play != num_injuries].index # Identify mismatched games\n",
    "\n",
    "pbp_dataset_left_outer2.loc[pbp_dataset_left_outer2['game_id'].isin(mismatched_games), 'num_injuries'] = pbp_dataset_left_outer2['game_id'].map(injuries_per_play) # Fix num_injuries in the original dataframe\n",
    "\n",
    "fixed_mismatches = pbp_dataset_left_outer2.groupby('game_id')['num_injuries'].first() != injuries_per_play\n",
    "print(f\"Remaining mismatches: {fixed_mismatches.sum()}\")  # Should be 0 if fully corrected"
   ]
  },
  {
   "cell_type": "markdown",
   "metadata": {},
   "source": [
    "**Re-Labelling Play injured on play based on description**\n",
    "\n",
    "We found later that there were other plays in the 2019 and 2020 play by play dataset that were not covered in our injuries dataset (approximately 100 injuries). We found this by coming across play descriptions that stated \"Player x was injured on the play\". We then verified this by reading game reports to ensure these players were actually injured during the game. This meant our dataset consisted of approximately 100 false negatives, because of this we returned here to ensure that all plays where any players were injured were in the positive class."
   ]
  },
  {
   "cell_type": "code",
   "execution_count": 66,
   "metadata": {},
   "outputs": [
    {
     "data": {
      "text/plain": [
       "0    86822\n",
       "1     1514\n",
       "Name: Player-Injured-On-Play, dtype: int64"
      ]
     },
     "execution_count": 66,
     "metadata": {},
     "output_type": "execute_result"
    }
   ],
   "source": [
    "pbp_dataset_left_outer2['Player-Injured-On-Play'].value_counts()"
   ]
  },
  {
   "cell_type": "code",
   "execution_count": 67,
   "metadata": {},
   "outputs": [
    {
     "data": {
      "text/plain": [
       "0    86718\n",
       "1     1618\n",
       "Name: new-play-injury-label, dtype: int64"
      ]
     },
     "execution_count": 67,
     "metadata": {},
     "output_type": "execute_result"
    }
   ],
   "source": [
    "def new_label(row):\n",
    "    desc = row['Description'].lower()\n",
    "    if 'was injured during the play' in desc:\n",
    "        return 1\n",
    "    else:\n",
    "        return 0\n",
    "\n",
    "pbp_dataset_left_outer2['new-play-injury-label'] = pbp_dataset_left_outer2.apply(new_label, axis=1)\n",
    "pbp_dataset_left_outer2['new-play-injury-label'].value_counts()"
   ]
  },
  {
   "cell_type": "code",
   "execution_count": 68,
   "metadata": {},
   "outputs": [
    {
     "data": {
      "text/plain": [
       "0    86717\n",
       "1     1619\n",
       "Name: Player-Injured-On-Play, dtype: int64"
      ]
     },
     "execution_count": 68,
     "metadata": {},
     "output_type": "execute_result"
    }
   ],
   "source": [
    "injury_play_labels = []\n",
    "for index, row in pbp_dataset_left_outer2.iterrows():\n",
    "    if row['Player-Injured-On-Play'] == 0 and row['new-play-injury-label'] == 0:\n",
    "        injury_play_labels.append(0)\n",
    "    else:\n",
    "        injury_play_labels.append(1)\n",
    "\n",
    "pbp_dataset_left_outer2['Player-Injured-On-Play'] = injury_play_labels\n",
    "pbp_dataset_left_outer2 = pbp_dataset_left_outer2.drop(columns='new-play-injury-label')\n",
    "\n",
    "pbp_dataset_left_outer2['Player-Injured-On-Play'].value_counts()\n",
    "    "
   ]
  },
  {
   "cell_type": "code",
   "execution_count": 69,
   "metadata": {},
   "outputs": [],
   "source": [
    "pbp_dataset_left_outer2 = pbp_dataset_left_outer2.drop(columns=['series_success', 'series_result'])"
   ]
  },
  {
   "cell_type": "code",
   "execution_count": 70,
   "metadata": {},
   "outputs": [],
   "source": [
    "pbp_dataset_left_outer2.to_csv('../../Data/play-by-play/processed_pbp_dataset.csv', index=False)"
   ]
  }
 ],
 "metadata": {
  "kernelspec": {
   "display_name": "Python 3",
   "language": "python",
   "name": "python3"
  },
  "language_info": {
   "codemirror_mode": {
    "name": "ipython",
    "version": 3
   },
   "file_extension": ".py",
   "mimetype": "text/x-python",
   "name": "python",
   "nbconvert_exporter": "python",
   "pygments_lexer": "ipython3",
   "version": "3.9.7"
  }
 },
 "nbformat": 4,
 "nbformat_minor": 2
}
