{
 "cells": [
  {
   "cell_type": "code",
   "execution_count": null,
   "metadata": {},
   "outputs": [],
   "source": [
    "import pandas as pd\n",
    "\n",
    "pbp_injuries_19 = pd.read_csv('../../Data/play-by-play/2019_game_injuries.csv')\n",
    "pbp_injuries_20 = pd.read_csv('../../Data/play-by-play/2020_game_injuries.csv')\n"
   ]
  },
  {
   "cell_type": "code",
   "execution_count": 2,
   "metadata": {},
   "outputs": [],
   "source": [
    "pbp_injuries_all = pd.concat([pbp_injuries_19, pbp_injuries_20], axis=0)"
   ]
  },
  {
   "cell_type": "code",
   "execution_count": 5,
   "metadata": {},
   "outputs": [
    {
     "data": {
      "text/plain": [
       "Index(['Unnamed: 0', 'connector', 'player_id', 'game_id', 'home_team',\n",
       "       'away_team', 'season_type', 'week', 'posteam', 'posteam_type',\n",
       "       'defteam', 'side_of_field', 'yardline_100', 'game_date',\n",
       "       'quarter_seconds_remaining', 'half_seconds_remaining',\n",
       "       'game_seconds_remaining', 'game_half', 'qtr', 'down', 'yrdln',\n",
       "       'ydstogo', 'desc', 'injured_first_name', 'injured_last_name',\n",
       "       'injured_team', 'injured_player_num', 'Contact/ non-contact',\n",
       "       'injury area', 'player role', 'season', 'team', 'position',\n",
       "       'depth_chart_position', 'jersey_number', 'status', 'full_name',\n",
       "       'first_name', 'last_name', 'birth_date', 'height', 'weight', 'college',\n",
       "       'years_exp', 'game_type', 'football_name', 'smart_id', 'entry_year',\n",
       "       'week.1', 'day', 'date', 'time', 'winner.tie', 'loser.tie', 'pts_w',\n",
       "       'pts_l', 'yds_w', 'tov_w', 'yds_l', 'tov_l', 'season.1',\n",
       "       'loser_is_home', 'Home_Team', 'Away_Team', 'Home_abbr', 'Away_abbr',\n",
       "       'num_injuries', 'num_plays', 'surface', 'surface_type', 'stadium',\n",
       "       'dome', 'Avg_Temp', 'Avg_Feels_Like', 'Avg_Wind_MPH',\n",
       "       'Avg_Humidity_Percent', 'Avg_Percipitation_Prob_Percent',\n",
       "       'Home_latitude', 'Home_longitude', 'Away_latitude', 'Away_longitude',\n",
       "       'distance_miles', 'HOME_day_since_last_game',\n",
       "       'AWAY_day_since_last_game'],\n",
       "      dtype='object')"
      ]
     },
     "execution_count": 5,
     "metadata": {},
     "output_type": "execute_result"
    }
   ],
   "source": [
    "pbp_injuries_all.columns"
   ]
  },
  {
   "cell_type": "markdown",
   "metadata": {},
   "source": [
    "Ensuring only 1 injured per play"
   ]
  },
  {
   "cell_type": "code",
   "execution_count": 14,
   "metadata": {},
   "outputs": [
    {
     "data": {
      "text/plain": [
       "(0, 84)"
      ]
     },
     "execution_count": 14,
     "metadata": {},
     "output_type": "execute_result"
    }
   ],
   "source": [
    "pbp_injuries_all[pbp_injuries_all.duplicated(subset=['game_id','game_seconds_remaining'])].shape"
   ]
  },
  {
   "cell_type": "markdown",
   "metadata": {},
   "source": [
    "No 2 players get injured on the same play"
   ]
  },
  {
   "cell_type": "code",
   "execution_count": 15,
   "metadata": {},
   "outputs": [
    {
     "data": {
      "text/plain": [
       "(38, 84)"
      ]
     },
     "execution_count": 15,
     "metadata": {},
     "output_type": "execute_result"
    }
   ],
   "source": [
    "pbp_injuries_all[pbp_injuries_all.duplicated(subset=['connector'])].shape"
   ]
  },
  {
   "cell_type": "markdown",
   "metadata": {},
   "source": [
    "There were 38 instances where the same player got injured multiple times in one game"
   ]
  }
 ],
 "metadata": {
  "kernelspec": {
   "display_name": "Python 3",
   "language": "python",
   "name": "python3"
  },
  "language_info": {
   "codemirror_mode": {
    "name": "ipython",
    "version": 3
   },
   "file_extension": ".py",
   "mimetype": "text/x-python",
   "name": "python",
   "nbconvert_exporter": "python",
   "pygments_lexer": "ipython3",
   "version": "3.9.7"
  }
 },
 "nbformat": 4,
 "nbformat_minor": 2
}
