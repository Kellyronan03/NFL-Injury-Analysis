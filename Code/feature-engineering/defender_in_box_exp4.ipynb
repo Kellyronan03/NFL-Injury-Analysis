{
 "cells": [
  {
   "cell_type": "code",
   "execution_count": 25,
   "metadata": {},
   "outputs": [],
   "source": [
    "import pandas as pd\n",
    "\n",
    "pbp = pd.read_csv('../../Data/play-by-play/pbp_exp3.csv') #processing from exp 3 to exp4\n",
    "particpation_19 = pd.read_csv('../../Data/nfl_verse_participation/pbp_participation_2019.csv')\n",
    "particpation_20 = pd.read_csv('../../Data/nfl_verse_participation/pbp_participation_2020.csv')"
   ]
  },
  {
   "cell_type": "code",
   "execution_count": 26,
   "metadata": {},
   "outputs": [
    {
     "data": {
      "text/plain": [
       "(96547, 20)"
      ]
     },
     "execution_count": 26,
     "metadata": {},
     "output_type": "execute_result"
    }
   ],
   "source": [
    "particpation = pd.concat([particpation_19,particpation_20])\n",
    "particpation.shape"
   ]
  },
  {
   "cell_type": "code",
   "execution_count": 27,
   "metadata": {},
   "outputs": [],
   "source": [
    "# inner_join = pbp.merge(particpation[['old_game_id', 'play_id', 'offense_formation', \n",
    "# 'defenders_in_box']], on=['old_game_id', 'play_id'], how='inner')\n",
    "# inner_join.shape #losing some rows, better to use left join"
   ]
  },
  {
   "cell_type": "code",
   "execution_count": 28,
   "metadata": {},
   "outputs": [
    {
     "data": {
      "text/plain": [
       "(88336, 46)"
      ]
     },
     "execution_count": 28,
     "metadata": {},
     "output_type": "execute_result"
    }
   ],
   "source": [
    "left_join = pbp.merge(particpation[['old_game_id', 'play_id', 'offense_formation', \n",
    "'defenders_in_box']], on=['old_game_id', 'play_id'], how='left')\n",
    "left_join.shape"
   ]
  },
  {
   "cell_type": "code",
   "execution_count": 29,
   "metadata": {},
   "outputs": [
    {
     "data": {
      "text/plain": [
       "home_team_on_offense          0\n",
       "home_team_on_defense          0\n",
       "Player-Injured-On-Play        0\n",
       "offense_formation         17769\n",
       "defenders_in_box          16629\n",
       "dtype: int64"
      ]
     },
     "execution_count": 29,
     "metadata": {},
     "output_type": "execute_result"
    }
   ],
   "source": [
    "left_join.isna().sum().tail() #nulls from original participation"
   ]
  },
  {
   "cell_type": "code",
   "execution_count": 30,
   "metadata": {},
   "outputs": [],
   "source": [
    "# left_join[left_join['defenders_in_box'].isna()].to_csv('nulls_box_defenders_check.csv', index=False)\n",
    "#looking at rows where defendrs in box is null\n",
    "# offense_fornmation_nulls = left_join[left_join['offense_formation'].isna()]"
   ]
  },
  {
   "cell_type": "code",
   "execution_count": 31,
   "metadata": {},
   "outputs": [
    {
     "data": {
      "text/plain": [
       "SHOTGUN       37814\n",
       "NaN           17769\n",
       "SINGLEBACK    17407\n",
       "EMPTY          6263\n",
       "I_FORM         5851\n",
       "PISTOL         2256\n",
       "JUMBO           752\n",
       "WILDCAT         224\n",
       "Name: offense_formation, dtype: int64"
      ]
     },
     "execution_count": 31,
     "metadata": {},
     "output_type": "execute_result"
    }
   ],
   "source": [
    "left_join['offense_formation'].value_counts(dropna=False) #17000+ nulls"
   ]
  },
  {
   "cell_type": "code",
   "execution_count": 32,
   "metadata": {},
   "outputs": [],
   "source": [
    "def fill_offense_formation(row):\n",
    "    desc = row['Description'].upper()\n",
    "    if 'PUNTS' in desc or 'PUNT' in desc:\n",
    "        return 'PUNT'\n",
    "    elif 'FIELD GOAL' in desc or 'EXTRA POINT' in desc:\n",
    "        return 'FIELD_GOAL'\n",
    "    elif 'SHOTGUN' in desc or 'PASS FORMATION' in desc:\n",
    "        return 'SHOTGUN'\n",
    "    elif 'KICKS' in desc or 'KICK FORMATION' in desc:\n",
    "        return 'KICKOFF'\n",
    "    elif 'KNEELS' in desc:\n",
    "        return 'VICTORY FORMATION'\n",
    "    else:\n",
    "        return 'UNDER CENTER'\n",
    "\n",
    "left_join['offense_formation'] = left_join['offense_formation'].fillna(left_join.apply(fill_offense_formation, axis=1)) #only applying function to rows where label is currently null"
   ]
  },
  {
   "cell_type": "code",
   "execution_count": 33,
   "metadata": {},
   "outputs": [
    {
     "data": {
      "text/plain": [
       "SHOTGUN              39037\n",
       "SINGLEBACK           17407\n",
       "EMPTY                 6263\n",
       "I_FORM                5851\n",
       "KICKOFF               5651\n",
       "FIELD_GOAL            4789\n",
       "PUNT                  4507\n",
       "PISTOL                2256\n",
       "VICTORY FORMATION      872\n",
       "JUMBO                  752\n",
       "UNDER CENTER           727\n",
       "WILDCAT                224\n",
       "Name: offense_formation, dtype: int64"
      ]
     },
     "execution_count": 33,
     "metadata": {},
     "output_type": "execute_result"
    }
   ],
   "source": [
    "left_join['offense_formation'].value_counts(dropna=False) #new value counts (no nulls)"
   ]
  },
  {
   "cell_type": "code",
   "execution_count": 34,
   "metadata": {},
   "outputs": [],
   "source": [
    "left_join['defenders_in_box'] = left_join['defenders_in_box'].fillna(0) #secial teams plays, can label 0 players in box"
   ]
  },
  {
   "cell_type": "code",
   "execution_count": 35,
   "metadata": {},
   "outputs": [],
   "source": [
    "left_join['Player-Injured-On-Play'] = left_join.pop('Player-Injured-On-Play') #move back to last column"
   ]
  },
  {
   "cell_type": "code",
   "execution_count": 36,
   "metadata": {},
   "outputs": [],
   "source": [
    "left_join.to_csv('../../Data/play-by-play/pbp_exp4.csv', index=False)"
   ]
  }
 ],
 "metadata": {
  "kernelspec": {
   "display_name": "Python 3",
   "language": "python",
   "name": "python3"
  },
  "language_info": {
   "codemirror_mode": {
    "name": "ipython",
    "version": 3
   },
   "file_extension": ".py",
   "mimetype": "text/x-python",
   "name": "python",
   "nbconvert_exporter": "python",
   "pygments_lexer": "ipython3",
   "version": "3.9.7"
  }
 },
 "nbformat": 4,
 "nbformat_minor": 2
}
