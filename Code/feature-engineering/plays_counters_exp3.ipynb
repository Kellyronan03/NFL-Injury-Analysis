{
 "cells": [
  {
   "cell_type": "markdown",
   "metadata": {},
   "source": [
    "**Adding Total Play Count, Home_team_on_offense etc. Features**"
   ]
  },
  {
   "cell_type": "code",
   "execution_count": 2,
   "metadata": {},
   "outputs": [],
   "source": [
    "import pandas as pd"
   ]
  },
  {
   "cell_type": "code",
   "execution_count": 22,
   "metadata": {},
   "outputs": [],
   "source": [
    "pbp = pd.read_csv('../../Data/play-by-play/processed_pbp_dataset.csv')"
   ]
  },
  {
   "cell_type": "code",
   "execution_count": 23,
   "metadata": {},
   "outputs": [],
   "source": [
    "pbp['total_play_count'] = pbp.groupby('game_id').cumcount() + 1 #total play count"
   ]
  },
  {
   "cell_type": "code",
   "execution_count": 25,
   "metadata": {},
   "outputs": [],
   "source": [
    "pbp[\"home_team_on_offense\"] = pbp.groupby(\"old_game_id\")[\"OffenseTeam\"].transform(\n",
    "    lambda x: (x == pbp.loc[x.index, \"home_team\"]).cumsum()) #home team on offense play count\n",
    "\n",
    "pbp[\"home_team_on_defense\"] = pbp.groupby(\"old_game_id\")[\"DefenseTeam\"].transform(\n",
    "    lambda x: (x == pbp.loc[x.index, \"home_team\"]).cumsum()) #home team on defence play count"
   ]
  },
  {
   "cell_type": "code",
   "execution_count": 27,
   "metadata": {},
   "outputs": [],
   "source": [
    "pbp['Player-Injured-On-Play'] = pbp.pop('Player-Injured-On-Play') #move back to last column"
   ]
  },
  {
   "cell_type": "code",
   "execution_count": 29,
   "metadata": {},
   "outputs": [],
   "source": [
    "pbp.to_csv('../../Data/play-by-play/pbp_exp3.csv', index=False)"
   ]
  }
 ],
 "metadata": {
  "kernelspec": {
   "display_name": "Python 3",
   "language": "python",
   "name": "python3"
  },
  "language_info": {
   "codemirror_mode": {
    "name": "ipython",
    "version": 3
   },
   "file_extension": ".py",
   "mimetype": "text/x-python",
   "name": "python",
   "nbconvert_exporter": "python",
   "pygments_lexer": "ipython3",
   "version": "3.9.7"
  }
 },
 "nbformat": 4,
 "nbformat_minor": 2
}
