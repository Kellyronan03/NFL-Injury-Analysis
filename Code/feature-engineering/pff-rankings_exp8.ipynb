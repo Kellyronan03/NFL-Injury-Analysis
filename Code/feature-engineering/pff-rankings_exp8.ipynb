{
 "cells": [
  {
   "cell_type": "markdown",
   "metadata": {},
   "source": [
    "Converting table of PFF team grades in each category to rankings (1-32) to be used as a feature in PBP Model "
   ]
  },
  {
   "cell_type": "code",
   "execution_count": 160,
   "metadata": {},
   "outputs": [],
   "source": [
    "import pandas as pd"
   ]
  },
  {
   "cell_type": "code",
   "execution_count": 161,
   "metadata": {},
   "outputs": [],
   "source": [
    "pff_grades_2018 = pd.read_excel('../../Data/pff-data/nfl-ratings-2018.xlsx')\n",
    "pff_grades_2019 = pd.read_excel('../../Data/pff-data/nfl-ratings-2019.xlsx')\n",
    "pff_grades_2020 = pd.read_excel('../../Data/pff-data/nfl-ratings-2020.xlsx')"
   ]
  },
  {
   "cell_type": "code",
   "execution_count": 162,
   "metadata": {},
   "outputs": [],
   "source": [
    "pff_grades_2020 = pff_grades_2020.rename(columns={'TEAM' : 'Team'})\n",
    "pff_grades_2020_def = pff_grades_2020[['Team', 'DEF']]\n",
    "pff_grades_2020_def = pff_grades_2020_def.sort_values(by='DEF', ascending=False, ignore_index=True) #sort by defense grade\n",
    "pff_grades_2020_def['season'] = 2021\n",
    "pff_grades_2020_def['Previous_DEF_rank'] = [i + 1 for i in range(len(pff_grades_2020_def))] #ranking is now the index+1 in this df"
   ]
  },
  {
   "cell_type": "code",
   "execution_count": 163,
   "metadata": {},
   "outputs": [],
   "source": [
    "pff_grades_2019_def = pff_grades_2019[['Team', 'DEF']]\n",
    "pff_grades_2019_def = pff_grades_2019_def.sort_values(by='DEF', ascending=False, ignore_index=True) #sort by defense grade\n",
    "pff_grades_2019_def['season'] = 2020\n",
    "pff_grades_2019_def['Previous_DEF_rank'] = [i + 1 for i in range(len(pff_grades_2019_def))] #ranking is now the index+1 in this df"
   ]
  },
  {
   "cell_type": "code",
   "execution_count": 164,
   "metadata": {},
   "outputs": [],
   "source": [
    "pff_grades_2018_def = pff_grades_2018[['Team', 'DEF']]\n",
    "pff_grades_2018_def = pff_grades_2018_def.sort_values(by='DEF', ascending=False, ignore_index=True)\n",
    "pff_grades_2018_def['season'] = 2019\n",
    "pff_grades_2018_def['Previous_DEF_rank'] = [i + 1 for i in range(len(pff_grades_2018_def))]"
   ]
  },
  {
   "cell_type": "code",
   "execution_count": 165,
   "metadata": {},
   "outputs": [],
   "source": [
    "pff_grades_2018_def = pff_grades_2018_def.drop(columns=['DEF'])\n",
    "pff_grades_2019_def = pff_grades_2019_def.drop(columns=['DEF'])\n",
    "pff_grades_2020_def = pff_grades_2020_def.drop(columns=['DEF'])\n",
    "defense_grades_df = pd.concat([pff_grades_2018_def, pff_grades_2019_def, pff_grades_2020_def], axis=0)"
   ]
  },
  {
   "cell_type": "code",
   "execution_count": 166,
   "metadata": {},
   "outputs": [
    {
     "name": "stdout",
     "output_type": "stream",
     "text": [
      "34\n"
     ]
    }
   ],
   "source": [
    "team_replacements = {'Pittsburgh Steelers': 'PIT', 'San Francisco 49ers': 'SF', 'New England Patriots': 'NE',\n",
    "    'Minnesota Vikings': 'MIN', 'Denver Broncos': 'DEN', 'Los Angeles Rams': 'LA', 'New Orleans Saints': 'NO',\n",
    "    'Detroit Lions': 'DET', 'Dallas Cowboys': 'DAL', 'New York Giants': 'NYG',\n",
    "    'Buffalo Bills': 'BUF', 'Chicago Bears': 'CHI', 'Green Bay Packers': 'GB','Indianapolis Colts': 'IND',\n",
    "    'Baltimore Ravens': 'BAL', 'New York Jets': 'NYJ', 'Tampa Bay Buccaneers': 'TB', 'Tennessee Titans': 'TEN',\n",
    "    'Los Angeles Chargers': 'LAC','Philadelphia Eagles': 'PHI', 'Seattle Seahawks': 'SEA', 'Carolina Panthers': 'CAR',\n",
    "    'Atlanta Falcons': 'ATL', 'Cincinnati Bengals': 'CIN', 'Houston Texans': 'HOU', 'Kansas City Chiefs': 'KC',\n",
    "    'Arizona Cardinals': 'ARI', 'Washington Redskins': 'WAS', 'Washington Football Team' : 'WAS',\n",
    "    'Cleveland Browns': 'CLE',\n",
    "    'Oakland Raiders': 'LV', 'Las Vegas Raiders' : 'LV',\n",
    "    'Jacksonville Jaguars': 'JAX',\n",
    "    'Miami Dolphins': 'MIA'\n",
    "}\n",
    "print(len(team_replacements.keys()))\n",
    "defense_grades_df['Team'] = defense_grades_df['Team'].replace(team_replacements)\n",
    "defense_grades_df.rename(columns={'Team' : 'DefenseTeam'}, inplace=True)"
   ]
  },
  {
   "cell_type": "code",
   "execution_count": 167,
   "metadata": {},
   "outputs": [
    {
     "data": {
      "text/plain": [
       "DefenseTeam              0\n",
       "season                   0\n",
       "Previous_DEF_rank        0\n",
       "current_defence_rank    32\n",
       "dtype: int64"
      ]
     },
     "execution_count": 167,
     "metadata": {},
     "output_type": "execute_result"
    }
   ],
   "source": [
    "defense_grades_df['current_defence_rank'] = defense_grades_df.groupby('DefenseTeam')['Previous_DEF_rank'].shift(-1)\n",
    "defense_grades_df.isnull().sum()"
   ]
  },
  {
   "cell_type": "markdown",
   "metadata": {},
   "source": [
    "Merging with PBP so every play column 'Season Defence Rank'"
   ]
  },
  {
   "cell_type": "code",
   "execution_count": 168,
   "metadata": {},
   "outputs": [],
   "source": [
    "pbp_exp4 = pd.read_csv('../../Data/play-by-play/pbp_exp5.csv') #features we are using for next experiment"
   ]
  },
  {
   "cell_type": "code",
   "execution_count": 169,
   "metadata": {},
   "outputs": [
    {
     "name": "stdout",
     "output_type": "stream",
     "text": [
      "(88336, 48)\n",
      "(88336, 50)\n",
      "0\n",
      "0\n"
     ]
    }
   ],
   "source": [
    "print(pbp_exp4.shape)\n",
    "pbp_exp8 = pd.merge(pbp_exp4, defense_grades_df, on=['DefenseTeam', 'season'], how='left')\n",
    "pbp_exp8['current_defence_rank'] = pbp_exp8['current_defence_rank'].astype(int)\n",
    "print(pbp_exp8.shape)\n",
    "print(pbp_exp8.isnull().sum().sum()) # no nulls and shape stays \n",
    "print(pbp_exp8.duplicated().sum()) #no duplicates"
   ]
  },
  {
   "cell_type": "code",
   "execution_count": 170,
   "metadata": {},
   "outputs": [],
   "source": [
    "pbp_exp8['Player-Injured-On-Play'] = pbp_exp8.pop('Player-Injured-On-Play') #move back to last column"
   ]
  },
  {
   "cell_type": "code",
   "execution_count": 171,
   "metadata": {},
   "outputs": [],
   "source": [
    "pbp_exp8.to_csv('../../Data/play-by-play/pbp_exp8.csv', index=False)"
   ]
  },
  {
   "cell_type": "code",
   "execution_count": 172,
   "metadata": {},
   "outputs": [],
   "source": [
    "# defense_grades_df.to_csv('../../Data/pff-data/defense_rankings.csv', index=False)"
   ]
  }
 ],
 "metadata": {
  "kernelspec": {
   "display_name": "Python 3",
   "language": "python",
   "name": "python3"
  },
  "language_info": {
   "codemirror_mode": {
    "name": "ipython",
    "version": 3
   },
   "file_extension": ".py",
   "mimetype": "text/x-python",
   "name": "python",
   "nbconvert_exporter": "python",
   "pygments_lexer": "ipython3",
   "version": "3.9.7"
  }
 },
 "nbformat": 4,
 "nbformat_minor": 2
}
