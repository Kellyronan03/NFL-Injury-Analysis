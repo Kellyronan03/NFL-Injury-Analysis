{
 "cells": [
  {
   "cell_type": "markdown",
   "metadata": {},
   "source": [
    "Adding counts of runs and pass plays thus far in a game on a given play as player fatigue feature"
   ]
  },
  {
   "cell_type": "code",
   "execution_count": 7,
   "metadata": {},
   "outputs": [],
   "source": [
    "import pandas as pd"
   ]
  },
  {
   "cell_type": "code",
   "execution_count": 8,
   "metadata": {},
   "outputs": [],
   "source": [
    "pbp = pd.read_csv('../../Data/play-by-play/pbp_exp4.csv')"
   ]
  },
  {
   "cell_type": "code",
   "execution_count": 9,
   "metadata": {},
   "outputs": [],
   "source": [
    "pbp[\"pass_count\"] = pbp.groupby(\"game_id\")[\"play_type\"].transform(lambda x: (x == \"pass\").cumsum())\n",
    "pbp[\"run_count\"] = pbp.groupby(\"game_id\")[\"play_type\"].transform(lambda x: (x == \"run\").cumsum())\n",
    "# pbp[\"punt_count\"] = pbp.groupby(\"game_id\")[\"play_type\"].transform(lambda x: (x == \"punt\").cumsum())\n",
    "# pbp[\"kickoff_count\"] = pbp.groupby(\"game_id\")[\"play_type\"].transform(lambda x: (x == \"kickoff\").cumsum())\n",
    "# pbp[\"no_play_count\"] = pbp.groupby(\"game_id\")[\"play_type\"].transform(lambda x: (x == \"no_play\").cumsum())\n",
    "# pbp[\"extra_point_count\"] = pbp.groupby(\"game_id\")[\"play_type\"].transform(lambda x: (x == \"extra_point\").cumsum())\n",
    "# pbp[\"field_goal_count\"] = pbp.groupby(\"game_id\")[\"play_type\"].transform(lambda x: (x == \"field_goal\").cumsum())\n",
    "# pbp[\"qb_kneel_count\"] = pbp.groupby(\"game_id\")[\"play_type\"].transform(lambda x: (x == \"qb_kneel\").cumsum())\n",
    "# pbp[\"qb_spike_count\"] = pbp.groupby(\"game_id\")[\"play_type\"].transform(lambda x: (x == \"qb_spike\").cumsum())"
   ]
  },
  {
   "cell_type": "code",
   "execution_count": 10,
   "metadata": {},
   "outputs": [],
   "source": [
    "pbp['Player-Injured-On-Play'] = pbp.pop('Player-Injured-On-Play') #move back to last column"
   ]
  },
  {
   "cell_type": "code",
   "execution_count": 11,
   "metadata": {},
   "outputs": [],
   "source": [
    "pbp.to_csv('../../Data/play-by-play/pbp_exp5.csv', index=False)"
   ]
  }
 ],
 "metadata": {
  "kernelspec": {
   "display_name": "Python 3",
   "language": "python",
   "name": "python3"
  },
  "language_info": {
   "codemirror_mode": {
    "name": "ipython",
    "version": 3
   },
   "file_extension": ".py",
   "mimetype": "text/x-python",
   "name": "python",
   "nbconvert_exporter": "python",
   "pygments_lexer": "ipython3",
   "version": "3.9.7"
  }
 },
 "nbformat": 4,
 "nbformat_minor": 2
}
