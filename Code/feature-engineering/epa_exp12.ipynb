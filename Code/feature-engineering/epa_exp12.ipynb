{
 "cells": [
  {
   "cell_type": "code",
   "execution_count": 2,
   "metadata": {},
   "outputs": [
    {
     "name": "stderr",
     "output_type": "stream",
     "text": [
      "/var/folders/6s/frb3c33d19nbynjcbrvxx7t80000gn/T/ipykernel_53075/1710860227.py:3: DtypeWarning: Columns (45,179,180,182,183,189,190,193,194,197,198,203,204,205,206,209,210,218,219,220,233,234,235,236,237,238,248,249,253,254,255,260,262,263,283,284) have mixed types. Specify dtype option on import or set low_memory=False.\n",
      "  pbp_2019 = pd.read_csv('../../Data/play-by-play/play_by_play_2019.csv')\n",
      "/var/folders/6s/frb3c33d19nbynjcbrvxx7t80000gn/T/ipykernel_53075/1710860227.py:4: DtypeWarning: Columns (179,180,182,183,189,190,193,194,197,198,203,204,205,206,213,214,218,219,220,222,224,226,248,249,253,254,255,260,262,263,266,267,268,269,283,284) have mixed types. Specify dtype option on import or set low_memory=False.\n",
      "  pbp_2020 = pd.read_csv('../../Data/play-by-play/play_by_play_2020.csv')\n"
     ]
    }
   ],
   "source": [
    "import pandas as pd\n",
    "\n",
    "pbp_2019 = pd.read_csv('../../Data/play-by-play/play_by_play_2019.csv')\n",
    "pbp_2020 = pd.read_csv('../../Data/play-by-play/play_by_play_2020.csv')"
   ]
  },
  {
   "cell_type": "code",
   "execution_count": 3,
   "metadata": {},
   "outputs": [],
   "source": [
    "pbp = pd.concat([pbp_2019, pbp_2020])"
   ]
  },
  {
   "cell_type": "code",
   "execution_count": 4,
   "metadata": {},
   "outputs": [
    {
     "data": {
      "text/plain": [
       "(94963, 372)"
      ]
     },
     "execution_count": 4,
     "metadata": {},
     "output_type": "execute_result"
    }
   ],
   "source": [
    "pbp.shape"
   ]
  },
  {
   "cell_type": "code",
   "execution_count": 5,
   "metadata": {},
   "outputs": [
    {
     "data": {
      "text/plain": [
       "Index(['play_id', 'game_id', 'old_game_id', 'home_team', 'away_team',\n",
       "       'season_type', 'week', 'posteam', 'posteam_type', 'defteam',\n",
       "       ...\n",
       "       'out_of_bounds', 'home_opening_kickoff', 'qb_epa', 'xyac_epa',\n",
       "       'xyac_mean_yardage', 'xyac_median_yardage', 'xyac_success', 'xyac_fd',\n",
       "       'xpass', 'pass_oe'],\n",
       "      dtype='object', length=372)"
      ]
     },
     "execution_count": 5,
     "metadata": {},
     "output_type": "execute_result"
    }
   ],
   "source": [
    "pbp.columns"
   ]
  },
  {
   "cell_type": "code",
   "execution_count": 6,
   "metadata": {},
   "outputs": [],
   "source": [
    "pbp_exp12 = pd.read_csv('../../Data/play-by-play/pbp_exp10.csv')"
   ]
  },
  {
   "cell_type": "code",
   "execution_count": 7,
   "metadata": {},
   "outputs": [
    {
     "data": {
      "text/plain": [
       "Index(['play_id', 'game_id', 'old_game_id', 'home_team', 'away_team',\n",
       "       'season_type', 'week', 'OffenseTeam', 'DefenseTeam', 'side_of_field',\n",
       "       'yardline_100', 'date', 'quarter_seconds_remaining',\n",
       "       'half_seconds_remaining', 'game_seconds_remaining', 'game_half',\n",
       "       'drive', 'Quarter', 'Down', 'YardsToGo', 'Description', 'play_type',\n",
       "       'yards_gained', 'Offteam_score', 'defteam_score', 'score_differential',\n",
       "       'season', 'series', 'stadium', 'play_type_nfl', 'drive_play_count',\n",
       "       'drive_time_of_possession', 'roof', 'surface_type', 'num_plays',\n",
       "       'num_injuries', 'Avg_Temp', 'Avg_Percipitation_Prob_Percent',\n",
       "       'HOME_day_since_last_game', 'AWAY_day_since_last_game',\n",
       "       'total_play_count', 'home_team_on_offense', 'home_team_on_defense',\n",
       "       'offense_formation', 'defenders_in_box', 'pass_count', 'run_count',\n",
       "       'Previous_DEF_rank', 'current_defence_rank', 'Player-Injured-On-Play',\n",
       "       'Temperature', 'Precipitation', 'temperature_grade',\n",
       "       'goal_line_situation', 'season_progression', 'late_season',\n",
       "       'is_close_game', 'temperature_bucket', 'is_bad_weather',\n",
       "       'poor_field_condition', 'rest_differential', 'short_rest',\n",
       "       'pass_run_ratio', 'offensive_predictability', 'third_and_long',\n",
       "       'fourth_down_attempt', 'blitz_situation'],\n",
       "      dtype='object')"
      ]
     },
     "execution_count": 7,
     "metadata": {},
     "output_type": "execute_result"
    }
   ],
   "source": [
    "pbp_exp12.columns"
   ]
  },
  {
   "cell_type": "code",
   "execution_count": 9,
   "metadata": {},
   "outputs": [
    {
     "data": {
      "text/plain": [
       "(88336, 67)"
      ]
     },
     "execution_count": 9,
     "metadata": {},
     "output_type": "execute_result"
    }
   ],
   "source": [
    "pbp_exp12.shape"
   ]
  },
  {
   "cell_type": "code",
   "execution_count": 10,
   "metadata": {},
   "outputs": [
    {
     "data": {
      "text/plain": [
       "(88336, 68)"
      ]
     },
     "execution_count": 10,
     "metadata": {},
     "output_type": "execute_result"
    }
   ],
   "source": [
    "pbp_exp12 = pd.merge(pbp_exp12, pbp[['epa', 'old_game_id', 'play_id']], on=['play_id', 'old_game_id'], how='inner')\n",
    "pbp_exp12.shape\n"
   ]
  },
  {
   "cell_type": "code",
   "execution_count": 11,
   "metadata": {},
   "outputs": [],
   "source": [
    "pbp_exp12.fillna(0, inplace=True)"
   ]
  },
  {
   "cell_type": "code",
   "execution_count": 12,
   "metadata": {},
   "outputs": [],
   "source": [
    "pbp_exp12.to_csv('../../Data/play-by-play/pbp_exp12.csv', index=False)"
   ]
  }
 ],
 "metadata": {
  "kernelspec": {
   "display_name": "Python 3",
   "language": "python",
   "name": "python3"
  },
  "language_info": {
   "codemirror_mode": {
    "name": "ipython",
    "version": 3
   },
   "file_extension": ".py",
   "mimetype": "text/x-python",
   "name": "python",
   "nbconvert_exporter": "python",
   "pygments_lexer": "ipython3",
   "version": "3.9.7"
  }
 },
 "nbformat": 4,
 "nbformat_minor": 2
}
